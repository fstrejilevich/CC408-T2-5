{
 "cells": [
  {
   "cell_type": "markdown",
   "metadata": {},
   "source": [
    "# TP4 Ciencia de Datos- Giacobelli & Strejilevich, Franciscos\n",
    "\n"
   ]
  },
  {
   "cell_type": "markdown",
   "metadata": {},
   "source": [
    "### Cargamos la base de datos"
   ]
  },
  {
   "cell_type": "code",
   "execution_count": 1,
   "metadata": {},
   "outputs": [],
   "source": [
    "import pandas as pd\n",
    "\n",
    "from pandas import DataFrame as df\n",
    "import seaborn as sns\n",
    "import matplotlib.pyplot as plt\n",
    "import numpy as np"
   ]
  },
  {
   "cell_type": "markdown",
   "metadata": {},
   "source": [
    "### Ejercicio 2"
   ]
  },
  {
   "cell_type": "code",
   "execution_count": 2,
   "metadata": {},
   "outputs": [],
   "source": [
    "ind_24 = pd.read_excel(r\"C:\\Users\\fstrejilevich\\Desktop\\TP4\\usu_individual_T124.xlsx\")\n",
    "ind_04 = pd.read_stata(r\"C:\\Users\\fstrejilevich\\Desktop\\TP4\\Individual_t104.dta\")\n",
    "hogar_24 = pd.read_excel(r\"C:\\Users\\fstrejilevich\\Desktop\\TP4\\usu_hogar_T124.xlsx\")\n",
    "hogar_04 = pd.read_stata(r\"C:\\Users\\fstrejilevich\\Desktop\\TP4\\Hogar_t104.dta\")"
   ]
  },
  {
   "cell_type": "markdown",
   "metadata": {},
   "source": [
    "### Revisamos las columnas: "
   ]
  },
  {
   "cell_type": "code",
   "execution_count": 3,
   "metadata": {},
   "outputs": [
    {
     "data": {
      "text/plain": [
       "Index(['CODUSU', 'nro_hogar', 'realizada', 'ano4', 'trimestre', 'region',\n",
       "       'mas_500', 'aglomerado', 'pondera', 'iv1', 'iv1_esp', 'iv2', 'iv3',\n",
       "       'iv3_esp', 'iv4', 'iv5', 'iv6', 'iv7', 'iv7_esp', 'iv8', 'iv9', 'iv10',\n",
       "       'iv11', 'iv12_1', 'iv12_2', 'iv12_3', 'ii1', 'ii2', 'ii3', 'ii3_1',\n",
       "       'ii4_1', 'ii4_2', 'ii4_3', 'ii5', 'ii5_1', 'ii6', 'ii6_1', 'ii7',\n",
       "       'ii7_esp', 'ii8', 'ii8_esp', 'ii9', 'v1', 'v2', 'v21', 'v22', 'v3',\n",
       "       'v4', 'v5', 'v6', 'v7', 'v8', 'v9', 'v10', 'v11', 'v12', 'v13', 'v14',\n",
       "       'v15', 'v16', 'v17', 'v18', 'v19_a', 'v19_b', 'IX_Tot', 'IX_Men10',\n",
       "       'IX_Mayeq10', 'itf', 'decifr', 'idecifr', 'rdecifr', 'gdecifr',\n",
       "       'pdecifr', 'adecifr', 'ipcf', 'deccfr', 'ideccfr', 'rdeccfr', 'gdeccfr',\n",
       "       'pdeccfr', 'adeccfr', 'vii1_1', 'vii1_2', 'vii2_1', 'vii2_2', 'vii2_3',\n",
       "       'vii2_4', 'idimph'],\n",
       "      dtype='object')"
      ]
     },
     "execution_count": 3,
     "metadata": {},
     "output_type": "execute_result"
    }
   ],
   "source": [
    "#Miro las columnas que tenemos\n",
    "hogar_04.columns"
   ]
  },
  {
   "cell_type": "code",
   "execution_count": 4,
   "metadata": {},
   "outputs": [
    {
     "data": {
      "text/plain": [
       "Index(['CODUSU', 'ANO4', 'TRIMESTRE', 'NRO_HOGAR', 'REALIZADA', 'REGION',\n",
       "       'MAS_500', 'AGLOMERADO', 'PONDERA', 'IV1', 'IV1_ESP', 'IV2', 'IV3',\n",
       "       'IV3_ESP', 'IV4', 'IV5', 'IV6', 'IV7', 'IV7_ESP', 'IV8', 'IV9', 'IV10',\n",
       "       'IV11', 'IV12_1', 'IV12_2', 'IV12_3', 'II1', 'II2', 'II3', 'II3_1',\n",
       "       'II4_1', 'II4_2', 'II4_3', 'II5', 'II5_1', 'II6', 'II6_1', 'II7',\n",
       "       'II7_ESP', 'II8', 'II8_ESP', 'II9', 'V1', 'V2', 'V21', 'V22', 'V3',\n",
       "       'V4', 'V5', 'V6', 'V7', 'V8', 'V9', 'V10', 'V11', 'V12', 'V13', 'V14',\n",
       "       'V15', 'V16', 'V17', 'V18', 'V19_A', 'V19_B', 'IX_TOT', 'IX_MEN10',\n",
       "       'IX_MAYEQ10', 'ITF', 'DECIFR', 'IDECIFR', 'RDECIFR', 'GDECIFR',\n",
       "       'PDECIFR', 'ADECIFR', 'IPCF', 'DECCFR', 'IDECCFR', 'RDECCFR', 'GDECCFR',\n",
       "       'PDECCFR', 'ADECCFR', 'PONDIH', 'VII1_1', 'VII1_2', 'VII2_1', 'VII2_2',\n",
       "       'VII2_3', 'VII2_4'],\n",
       "      dtype='object')"
      ]
     },
     "execution_count": 4,
     "metadata": {},
     "output_type": "execute_result"
    }
   ],
   "source": [
    "hogar_24.columns"
   ]
  },
  {
   "cell_type": "code",
   "execution_count": null,
   "metadata": {},
   "outputs": [],
   "source": []
  },
  {
   "cell_type": "code",
   "execution_count": null,
   "metadata": {},
   "outputs": [],
   "source": []
  },
  {
   "cell_type": "code",
   "execution_count": 5,
   "metadata": {},
   "outputs": [],
   "source": [
    "#Pasamos todas las columnas a mayusculas para que queden iguales despues en el merge\n",
    "# Cambiamos los nombres de las columnas a mayúsculas\n",
    "hogar_04.columns = hogar_04.columns.str.upper()\n",
    "hogar_24.columns = hogar_24.columns.str.upper()\n",
    "ind_04.columns = ind_04.columns.str.upper()\n",
    "ind_24.columns = ind_24.columns.str.upper()"
   ]
  },
  {
   "cell_type": "markdown",
   "metadata": {},
   "source": [
    "### Eliminen todas las observaciones que no corresponden a los aglomerados de Ciudad Autónoma de Buenos Aires o Gran Buenos Aires y unan ambos trimestres en una sola base."
   ]
  },
  {
   "cell_type": "markdown",
   "metadata": {},
   "source": [
    "###### Asegúrese de estar usando las variables CODUSU y NRO_Hogar para el merge."
   ]
  },
  {
   "cell_type": "code",
   "execution_count": 6,
   "metadata": {},
   "outputs": [
    {
     "name": "stdout",
     "output_type": "stream",
     "text": [
      "Datos en ind_04_filtrado: (7647, 176)\n",
      "Datos en ind_24_filtrado: (7051, 177)\n",
      "Datos en hogar_04_filtrado: (2351, 88)\n",
      "Datos en hogar_24_filtrado: (2545, 88)\n",
      "AGLOMERADO\n",
      "GBA     1663\n",
      "CABA     688\n",
      "Name: count, dtype: int64\n",
      "AGLOMERADO\n",
      "GBA     5811\n",
      "CABA    1836\n",
      "Name: count, dtype: int64\n",
      "AGLOMERADO\n",
      "GBA     1881\n",
      "CABA     664\n",
      "Name: count, dtype: int64\n",
      "AGLOMERADO\n",
      "GBA     5629\n",
      "CABA    1422\n",
      "Name: count, dtype: int64\n"
     ]
    }
   ],
   "source": [
    "# Armo un diccionario de mapeo para estandarizar los nombres\n",
    "aglomerado_04 = {'Ciudad de Buenos Aires': 'CABA', 'Partidos del GBA': 'GBA'}\n",
    "aglomerado_24 = {32: 'CABA', 33: 'GBA'}\n",
    "\n",
    "# Ahora a filtramos y transformamos los datos individuales\n",
    "ind_04_filtrado = ind_04.query(\"AGLOMERADO in @aglomerado_04.keys()\").copy()\n",
    "ind_04_filtrado['AGLOMERADO'] = ind_04_filtrado['AGLOMERADO'].map(aglomerado_04)\n",
    "\n",
    "ind_24_filtrado = ind_24.query(\"AGLOMERADO in @aglomerado_24.keys()\").copy()\n",
    "ind_24_filtrado['AGLOMERADO'] = ind_24_filtrado['AGLOMERADO'].map(aglomerado_24)\n",
    "\n",
    "# Lo mismo peor con los datos de hogares\n",
    "hogar_04_filtrado = hogar_04.query(\"AGLOMERADO in @aglomerado_04.keys()\").copy()\n",
    "hogar_04_filtrado['AGLOMERADO'] = hogar_04_filtrado['AGLOMERADO'].map(aglomerado_04)\n",
    "\n",
    "hogar_24_filtrado = hogar_24.query(\"AGLOMERADO in @aglomerado_24.keys()\").copy()\n",
    "hogar_24_filtrado['AGLOMERADO'] = hogar_24_filtrado['AGLOMERADO'].map(aglomerado_24)\n",
    "\n",
    "# Post filtrados verificamos las dimensiones de cada uno que limpiamos\n",
    "for df_name, df in zip(\n",
    "    [\"ind_04_filtrado\", \"ind_24_filtrado\", \"hogar_04_filtrado\", \"hogar_24_filtrado\"],\n",
    "    [ind_04_filtrado, ind_24_filtrado, hogar_04_filtrado, hogar_24_filtrado]\n",
    "): \n",
    "    print(f\"Datos en {df_name}: {df.shape}\")\n",
    "print(hogar_04_filtrado['AGLOMERADO'].value_counts())\n",
    "print(ind_04_filtrado['AGLOMERADO'].value_counts())\n",
    "print(hogar_24_filtrado['AGLOMERADO'].value_counts())\n",
    "print(ind_24_filtrado['AGLOMERADO'].value_counts())"
   ]
  },
  {
   "cell_type": "code",
   "execution_count": 7,
   "metadata": {},
   "outputs": [
    {
     "name": "stdout",
     "output_type": "stream",
     "text": [
      "<bound method IndexOpsMixin.value_counts of 0       125098  \n",
      "1       125397  \n",
      "2       125515  \n",
      "3       125558  \n",
      "4       125558  \n",
      "          ...   \n",
      "7642    288171  \n",
      "7643    288405  \n",
      "7644    288405  \n",
      "7645    288405  \n",
      "7646    288405  \n",
      "Name: CODUSU, Length: 7647, dtype: object>\n"
     ]
    }
   ],
   "source": [
    "\n",
    "print(ind_04_filtrado['CODUSU'].value_counts)"
   ]
  },
  {
   "cell_type": "markdown",
   "metadata": {},
   "source": []
  },
  {
   "cell_type": "code",
   "execution_count": 8,
   "metadata": {},
   "outputs": [
    {
     "name": "stdout",
     "output_type": "stream",
     "text": [
      "Valores nulos en ind_04_filtrado:\n",
      "CODUSU       0\n",
      "NRO_HOGAR    0\n",
      "dtype: int64\n",
      "Valores nulos en ind_24_filtrado:\n",
      "CODUSU       0\n",
      "NRO_HOGAR    0\n",
      "dtype: int64\n",
      "Valores nulos en hogar_04_filtrado:\n",
      "CODUSU       0\n",
      "NRO_HOGAR    0\n",
      "dtype: int64\n",
      "Valores nulos en hogar_24_filtrado:\n",
      "CODUSU       0\n",
      "NRO_HOGAR    0\n",
      "dtype: int64\n"
     ]
    }
   ],
   "source": [
    "# Listas de nombres y DataFrames a procesar\n",
    "datasets = {\n",
    "    \"ind_04_filtrado\": ind_04_filtrado,\n",
    "    \"ind_24_filtrado\": ind_24_filtrado,\n",
    "    \"hogar_04_filtrado\": hogar_04_filtrado,\n",
    "    \"hogar_24_filtrado\": hogar_24_filtrado\n",
    "}\n",
    "\n",
    "# Ajustamos el formato de las claves CODUSU y NRO_HOGAR\n",
    "datasets = {name: df.assign(\n",
    "    CODUSU=df['CODUSU'].astype(str),  # Convertimos CODUSU a string\n",
    "    NRO_HOGAR=df['NRO_HOGAR'].astype(int)  # Convertimos NRO_HOGAR a entero\n",
    ") for name, df in datasets.items()}\n",
    "\n",
    "# Verificar valores nulos y mostrar resultados\n",
    "for name, df in datasets.items():\n",
    "    print(f\"Valores nulos en {name}:\")\n",
    "    print(df[['CODUSU', 'NRO_HOGAR']].isnull().sum())\n"
   ]
  },
  {
   "cell_type": "code",
   "execution_count": 9,
   "metadata": {},
   "outputs": [
    {
     "name": "stdout",
     "output_type": "stream",
     "text": [
      "CODUSU\n",
      "219747      15\n",
      "157368      14\n",
      "134291      13\n",
      "204642      13\n",
      "136127      12\n",
      "            ..\n",
      "218565       1\n",
      "207544       1\n",
      "207177       1\n",
      "207130       1\n",
      "125098       1\n",
      "Name: count, Length: 2329, dtype: int64\n"
     ]
    }
   ],
   "source": [
    "data_2004 = ind_04_filtrado.merge(hogar_04_filtrado, on=['CODUSU', 'NRO_HOGAR'], how='inner')\n",
    "print(data_2004['CODUSU'].value_counts())"
   ]
  },
  {
   "cell_type": "markdown",
   "metadata": {},
   "source": [
    "Fran, acá arriba lo que hice fue asegurarme de que las columnas claves CODUSU y NRO_HOGAR estén en el formato correcto antes de seguir codeando. Convertí CODUSU a texto, porque es un identificador único, y pasé NRO_HOGAR a números enteros porque tiene más sentido usarlo como número para cálculos o filtros. Para organizarme mejor, puse todos los DataFrames (como ind_04_filtrado y hogar_04_filtrado) en un diccionario que me permite recorrerlos de manera más facil y mantener el código limpio.\n",
    "\n",
    "Hice esto porque quiero evitar errores al unir las bases más adelante. Además, usé el método assign para ajustar las columnas de cada DataFrame en una sola línea, además verifiqué si había valores nulos en estas claves (isnull().sum()), porque si aparecen, pueden complicar los merges creo yo, si pasa eso habría que decidir cómo manejarlos. Si queres cambiar algo obvio anda manejandolo"
   ]
  },
  {
   "cell_type": "markdown",
   "metadata": {},
   "source": [
    "### Merge de las bases de datos"
   ]
  },
  {
   "cell_type": "code",
   "execution_count": 10,
   "metadata": {},
   "outputs": [
    {
     "name": "stdout",
     "output_type": "stream",
     "text": [
      "Datos combinados para 2004: (7647, 263)\n",
      "Datos combinados para 2004: (7051, 264)\n",
      "Dimensiones de merge_data: (14698, 269)\n",
      "Columnas de merge_data: Index(['CODUSU', 'NRO_HOGAR', 'COMPONENTE', 'H15', 'ANO4_x', 'TRIMESTRE_x',\n",
      "       'REGION_x', 'MAS_500_x', 'AGLOMERADO_x', 'PONDERA_x',\n",
      "       ...\n",
      "       'VII2_3', 'VII2_4', 'IDIMPH', 'ano', 'CH05', 'IMPUTA', 'PONDIIO',\n",
      "       'PONDII', 'PONDIH_x', 'PONDIH_y'],\n",
      "      dtype='object', length=269)\n",
      "0        2004\n",
      "1        2004\n",
      "2        2004\n",
      "3        2004\n",
      "4        2004\n",
      "         ... \n",
      "14693    2024\n",
      "14694    2024\n",
      "14695    2024\n",
      "14696    2024\n",
      "14697    2024\n",
      "Name: ano, Length: 14698, dtype: int64\n"
     ]
    }
   ],
   "source": [
    "#debido a que el codigo de la parte 1 se hizo considerando a las bases como una, se va a repetir codigo para la limpieza, los datasets data_2004 y data_2024 serán usados para los modelos estadisticos\n",
    "# Merge para 2004, la columna \"ano\" separando las variables de 2024 y 2004 respectivamente, posteriormente va a ayudar a separar que variables no se usan en la regresion\n",
    "data_2004 = ind_04_filtrado.merge(hogar_04_filtrado, on=['CODUSU', 'NRO_HOGAR'], how='inner')\n",
    "data_2004['ano']=2004\n",
    "print(\"Datos combinados para 2004:\", data_2004.shape)\n",
    "# Merge para 2024\n",
    "data_2024 = ind_24_filtrado.merge(hogar_24_filtrado, on=['CODUSU', 'NRO_HOGAR'], how='inner')\n",
    "data_2024['ano']=2024\n",
    "print(\"Datos combinados para 2004:\", data_2024.shape)\n",
    "# Combina los datos en un único DataFrame\n",
    "merge_data = pd.concat([data_2004, data_2024], ignore_index=True)\n",
    "\n",
    "# Verifica dimensiones y columnas\n",
    "print(\"Dimensiones de merge_data:\", merge_data.shape)\n",
    "print(\"Columnas de merge_data:\", merge_data.columns)\n",
    "print(merge_data['ano'])\n"
   ]
  },
  {
   "cell_type": "code",
   "execution_count": 11,
   "metadata": {},
   "outputs": [
    {
     "name": "stdout",
     "output_type": "stream",
     "text": [
      "CODUSU\n",
      "219747      15\n",
      "157368      14\n",
      "134291      13\n",
      "204642      13\n",
      "136127      12\n",
      "            ..\n",
      "218565       1\n",
      "207544       1\n",
      "207177       1\n",
      "207130       1\n",
      "125098       1\n",
      "Name: count, Length: 2329, dtype: int64\n"
     ]
    }
   ],
   "source": [
    "print(data_2004['CODUSU'].value_counts())"
   ]
  },
  {
   "cell_type": "code",
   "execution_count": 12,
   "metadata": {},
   "outputs": [
    {
     "name": "stdout",
     "output_type": "stream",
     "text": [
      "CODUSU\n",
      "TQRMNORYYHLNMQCDEIJAH00855538    12\n",
      "TQRMNOQUSHJOPQCDEIJAH00793462    12\n",
      "TQRMNOTPSHJNSOCDEIJAH00794201    11\n",
      "TQRMNOQTVHLMMMCDEIJAH00855297    11\n",
      "TQRMNOQPRHJOONCDEIJAH00860538    10\n",
      "                                 ..\n",
      "TQRMNOQSRHLNONCDEIIAD00854777     1\n",
      "TQRMNOQXXHMMQLCDEIJAH00802449     1\n",
      "TQRMNOSSYHKMQNCDEIJAH00859642     1\n",
      "TQRMNOSRTHJMSLCDEIJAH00797047     1\n",
      "TQRMNORXWHKKNQCDEIIAD00858564     1\n",
      "Name: count, Length: 2540, dtype: int64\n"
     ]
    }
   ],
   "source": [
    "print(data_2024['CODUSU'].value_counts())"
   ]
  },
  {
   "cell_type": "code",
   "execution_count": 13,
   "metadata": {},
   "outputs": [
    {
     "name": "stdout",
     "output_type": "stream",
     "text": [
      "Index(['CODUSU', 'ANO4_x', 'TRIMESTRE_x', 'NRO_HOGAR', 'COMPONENTE', 'H15',\n",
      "       'REGION_x', 'MAS_500_x', 'AGLOMERADO_x', 'PONDERA_x',\n",
      "       ...\n",
      "       'PDECCFR_y', 'ADECCFR_y', 'PONDIH_y', 'VII1_1', 'VII1_2', 'VII2_1',\n",
      "       'VII2_2', 'VII2_3', 'VII2_4', 'ano'],\n",
      "      dtype='object', length=264)\n"
     ]
    }
   ],
   "source": [
    "\n",
    "\n",
    "# Mostrar el DataFrame o sus columnas\n",
    "print(data_2024.columns)"
   ]
  },
  {
   "cell_type": "code",
   "execution_count": 14,
   "metadata": {},
   "outputs": [
    {
     "data": {
      "text/plain": [
       "ESTADO\n",
       "Ocupado                                                         3079\n",
       "Inactivo                                                        2800\n",
       "Menor de 10 años                                                1230\n",
       "Desocupado                                                       528\n",
       "Entrevista individual no realizada (no respuesta al cuestion      10\n",
       "Name: count, dtype: int64"
      ]
     },
     "execution_count": 14,
     "metadata": {},
     "output_type": "execute_result"
    }
   ],
   "source": [
    "data_2004['ESTADO'].value_counts()"
   ]
  },
  {
   "cell_type": "markdown",
   "metadata": {},
   "source": [
    "### Punto 3- Limpieza de datos"
   ]
  },
  {
   "cell_type": "code",
   "execution_count": 15,
   "metadata": {},
   "outputs": [
    {
     "name": "stdout",
     "output_type": "stream",
     "text": [
      "\n",
      "Columnas de merge_data:\n",
      "['CODUSU', 'NRO_HOGAR', 'COMPONENTE', 'H15', 'ANO4_x', 'TRIMESTRE_x', 'REGION_x', 'MAS_500_x', 'AGLOMERADO_x', 'PONDERA_x', 'CH03', 'CH04', 'CH06', 'CH07', 'CH08', 'CH09', 'CH10', 'CH11', 'CH12', 'CH13', 'CH14', 'CH15', 'CH15_COD', 'CH16', 'CH16_COD', 'NIVEL_ED', 'ESTADO', 'CAT_OCUP', 'CAT_INAC', 'PP02C1', 'PP02C2', 'PP02C3', 'PP02C4', 'PP02C5', 'PP02C6', 'PP02C7', 'PP02C8', 'PP02E', 'PP02H', 'PP02I', 'PP03C', 'PP03D', 'PP3E_TOT', 'PP3F_TOT', 'PP03G', 'PP03H', 'PP03I', 'PP03J', 'INTENSI', 'PP04A', 'PP04B_COD', 'PP04B1', 'PP04B2', 'PP04B3_MES', 'PP04B3_ANO', 'PP04B3_DIA', 'PP04C', 'PP04C99', 'PP04D_COD', 'PP04G', 'PP05B2_MES', 'PP05B2_ANO', 'PP05B2_DIA', 'PP05C_1', 'PP05C_2', 'PP05C_3', 'PP05E', 'PP05F', 'PP05H', 'PP06A', 'PP06C', 'PP06D', 'PP06E', 'PP06H', 'PP07A', 'PP07C', 'PP07D', 'PP07E', 'PP07F1', 'PP07F2', 'PP07F3', 'PP07F4', 'PP07F5', 'PP07G1', 'PP07G2', 'PP07G3', 'PP07G4', 'PP07G_59', 'PP07H', 'PP07I', 'PP07J', 'PP07K', 'PP08D1', 'PP08D4', 'PP08F1', 'PP08F2', 'PP08J1', 'PP08J2', 'PP08J3', 'PP09A', 'PP09A_ESP', 'PP09B', 'PP09C', 'PP09C_ESP', 'PP10A', 'PP10C', 'PP10D', 'PP10E', 'PP11A', 'PP11B_COD', 'PP11B1', 'PP11B2_MES', 'PP11B2_ANO', 'PP11B2_DIA', 'PP11C', 'PP11C99', 'PP11D_COD', 'PP11G_ANO', 'PP11G_MES', 'PP11G_DIA', 'PP11L', 'PP11L1', 'PP11M', 'PP11N', 'PP11O', 'PP11P', 'PP11Q', 'PP11R', 'PP11S', 'PP11T', 'P21', 'DECOCUR', 'IDECOCUR', 'RDECOCUR', 'GDECOCUR', 'PDECOCUR', 'ADECOCUR', 'TOT_P12', 'P47T', 'DECINDR', 'IDECINDR', 'RDECINDR', 'GDECINDR', 'PDECINDR', 'ADECINDR', 'V2_M', 'V3_M', 'V4_M', 'V5_M', 'V8_M', 'V9_M', 'V10_M', 'V11_M', 'V12_M', 'V18_M', 'V19_AM', 'V21_M', 'T_VI', 'ITF_x', 'DECIFR_x', 'IDECIFR_x', 'RDECIFR_x', 'GDECIFR_x', 'PDECIFR_x', 'ADECIFR_x', 'IPCF_x', 'DECCFR_x', 'IDECCFR_x', 'RDECCFR_x', 'GDECCFR_x', 'PDECCFR_x', 'ADECCFR_x', 'PJ1_1', 'PJ2_1', 'PJ3_1', 'IDIMPP', 'REALIZADA', 'ANO4_y', 'TRIMESTRE_y', 'REGION_y', 'MAS_500_y', 'AGLOMERADO_y', 'PONDERA_y', 'IV1', 'IV1_ESP', 'IV2', 'IV3', 'IV3_ESP', 'IV4', 'IV5', 'IV6', 'IV7', 'IV7_ESP', 'IV8', 'IV9', 'IV10', 'IV11', 'IV12_1', 'IV12_2', 'IV12_3', 'II1', 'II2', 'II3', 'II3_1', 'II4_1', 'II4_2', 'II4_3', 'II5', 'II5_1', 'II6', 'II6_1', 'II7', 'II7_ESP', 'II8', 'II8_ESP', 'II9', 'V1', 'V2', 'V21', 'V22', 'V3', 'V4', 'V5', 'V6', 'V7', 'V8', 'V9', 'V10', 'V11', 'V12', 'V13', 'V14', 'V15', 'V16', 'V17', 'V18', 'V19_A', 'V19_B', 'IX_TOT', 'IX_MEN10', 'IX_MAYEQ10', 'ITF_y', 'DECIFR_y', 'IDECIFR_y', 'RDECIFR_y', 'GDECIFR_y', 'PDECIFR_y', 'ADECIFR_y', 'IPCF_y', 'DECCFR_y', 'IDECCFR_y', 'RDECCFR_y', 'GDECCFR_y', 'PDECCFR_y', 'ADECCFR_y', 'VII1_1', 'VII1_2', 'VII2_1', 'VII2_2', 'VII2_3', 'VII2_4', 'IDIMPH', 'ano', 'CH05', 'IMPUTA', 'PONDIIO', 'PONDII', 'PONDIH_x', 'PONDIH_y']\n",
      "\n",
      "Primeras filas de merge_data:\n",
      "     CODUSU  NRO_HOGAR COMPONENTE H15  ANO4_x     TRIMESTRE_x  \\\n",
      "0  125098          1.0        1.0  Sí  2004.0  1er. Trimestre   \n",
      "1  125397          1.0        1.0  Sí  2004.0  1er. Trimestre   \n",
      "2  125515          1.0        1.0  Sí  2004.0  1er. Trimestre   \n",
      "3  125558          1.0        1.0  Sí  2004.0  1er. Trimestre   \n",
      "4  125558          1.0        2.0  Sí  2004.0  1er. Trimestre   \n",
      "\n",
      "            REGION_x MAS_500_x AGLOMERADO_x  PONDERA_x  ... VII2_3 VII2_4  \\\n",
      "0  Gran Buenos Aires         S         CABA     1299.0  ...    0.0    0.0   \n",
      "1  Gran Buenos Aires         S         CABA     2018.0  ...    0.0    0.0   \n",
      "2  Gran Buenos Aires         S         CABA     1486.0  ...    0.0    0.0   \n",
      "3  Gran Buenos Aires         S         CABA     1674.0  ...    0.0    0.0   \n",
      "4  Gran Buenos Aires         S         CABA     1674.0  ...    0.0    0.0   \n",
      "\n",
      "  IDIMPH   ano CH05 IMPUTA PONDIIO PONDII PONDIH_x PONDIH_y  \n",
      "0  00000  2004  NaN    NaN     NaN    NaN      NaN      NaN  \n",
      "1  00000  2004  NaN    NaN     NaN    NaN      NaN      NaN  \n",
      "2  00010  2004  NaN    NaN     NaN    NaN      NaN      NaN  \n",
      "3  00000  2004  NaN    NaN     NaN    NaN      NaN      NaN  \n",
      "4  00000  2004  NaN    NaN     NaN    NaN      NaN      NaN  \n",
      "\n",
      "[5 rows x 269 columns]\n"
     ]
    }
   ],
   "source": [
    "# Inspecciono las columnas y su contenido\n",
    "print(\"\\nColumnas de merge_data:\")\n",
    "print(merge_data.columns.tolist())\n",
    "\n",
    "print(\"\\nPrimeras filas de merge_data:\")\n",
    "print(merge_data.head())"
   ]
  },
  {
   "cell_type": "code",
   "execution_count": 16,
   "metadata": {},
   "outputs": [
    {
     "name": "stdout",
     "output_type": "stream",
     "text": [
      "\n",
      "Columnas de merge_data:\n",
      "['CODUSU', 'ANO4_x', 'TRIMESTRE_x', 'NRO_HOGAR', 'COMPONENTE', 'H15', 'REGION_x', 'MAS_500_x', 'AGLOMERADO_x', 'PONDERA_x', 'CH03', 'CH04', 'CH05', 'CH06', 'CH07', 'CH08', 'CH09', 'CH10', 'CH11', 'CH12', 'CH13', 'CH14', 'CH15', 'CH15_COD', 'CH16', 'CH16_COD', 'NIVEL_ED', 'ESTADO', 'CAT_OCUP', 'CAT_INAC', 'IMPUTA', 'PP02C1', 'PP02C2', 'PP02C3', 'PP02C4', 'PP02C5', 'PP02C6', 'PP02C7', 'PP02C8', 'PP02E', 'PP02H', 'PP02I', 'PP03C', 'PP03D', 'PP3E_TOT', 'PP3F_TOT', 'PP03G', 'PP03H', 'PP03I', 'PP03J', 'INTENSI', 'PP04A', 'PP04B_COD', 'PP04B1', 'PP04B2', 'PP04B3_MES', 'PP04B3_ANO', 'PP04B3_DIA', 'PP04C', 'PP04C99', 'PP04D_COD', 'PP04G', 'PP05B2_MES', 'PP05B2_ANO', 'PP05B2_DIA', 'PP05C_1', 'PP05C_2', 'PP05C_3', 'PP05E', 'PP05F', 'PP05H', 'PP06A', 'PP06C', 'PP06D', 'PP06E', 'PP06H', 'PP07A', 'PP07C', 'PP07D', 'PP07E', 'PP07F1', 'PP07F2', 'PP07F3', 'PP07F4', 'PP07F5', 'PP07G1', 'PP07G2', 'PP07G3', 'PP07G4', 'PP07G_59', 'PP07H', 'PP07I', 'PP07J', 'PP07K', 'PP08D1', 'PP08D4', 'PP08F1', 'PP08F2', 'PP08J1', 'PP08J2', 'PP08J3', 'PP09A', 'PP09A_ESP', 'PP09B', 'PP09C', 'PP09C_ESP', 'PP10A', 'PP10C', 'PP10D', 'PP10E', 'PP11A', 'PP11B_COD', 'PP11B1', 'PP11B2_MES', 'PP11B2_ANO', 'PP11B2_DIA', 'PP11C', 'PP11C99', 'PP11D_COD', 'PP11G_ANO', 'PP11G_MES', 'PP11G_DIA', 'PP11L', 'PP11L1', 'PP11M', 'PP11N', 'PP11O', 'PP11P', 'PP11Q', 'PP11R', 'PP11S', 'PP11T', 'P21', 'DECOCUR', 'IDECOCUR', 'RDECOCUR', 'GDECOCUR', 'PDECOCUR', 'ADECOCUR', 'PONDIIO', 'TOT_P12', 'P47T', 'DECINDR', 'IDECINDR', 'RDECINDR', 'GDECINDR', 'PDECINDR', 'ADECINDR', 'PONDII', 'V2_M', 'V3_M', 'V4_M', 'V5_M', 'V8_M', 'V9_M', 'V10_M', 'V11_M', 'V12_M', 'V18_M', 'V19_AM', 'V21_M', 'T_VI', 'ITF_x', 'DECIFR_x', 'IDECIFR_x', 'RDECIFR_x', 'GDECIFR_x', 'PDECIFR_x', 'ADECIFR_x', 'IPCF_x', 'DECCFR_x', 'IDECCFR_x', 'RDECCFR_x', 'GDECCFR_x', 'PDECCFR_x', 'ADECCFR_x', 'PONDIH_x', 'ANO4_y', 'TRIMESTRE_y', 'REALIZADA', 'REGION_y', 'MAS_500_y', 'AGLOMERADO_y', 'PONDERA_y', 'IV1', 'IV1_ESP', 'IV2', 'IV3', 'IV3_ESP', 'IV4', 'IV5', 'IV6', 'IV7', 'IV7_ESP', 'IV8', 'IV9', 'IV10', 'IV11', 'IV12_1', 'IV12_2', 'IV12_3', 'II1', 'II2', 'II3', 'II3_1', 'II4_1', 'II4_2', 'II4_3', 'II5', 'II5_1', 'II6', 'II6_1', 'II7', 'II7_ESP', 'II8', 'II8_ESP', 'II9', 'V1', 'V2', 'V21', 'V22', 'V3', 'V4', 'V5', 'V6', 'V7', 'V8', 'V9', 'V10', 'V11', 'V12', 'V13', 'V14', 'V15', 'V16', 'V17', 'V18', 'V19_A', 'V19_B', 'IX_TOT', 'IX_MEN10', 'IX_MAYEQ10', 'ITF_y', 'DECIFR_y', 'IDECIFR_y', 'RDECIFR_y', 'GDECIFR_y', 'PDECIFR_y', 'ADECIFR_y', 'IPCF_y', 'DECCFR_y', 'IDECCFR_y', 'RDECCFR_y', 'GDECCFR_y', 'PDECCFR_y', 'ADECCFR_y', 'PONDIH_y', 'VII1_1', 'VII1_2', 'VII2_1', 'VII2_2', 'VII2_3', 'VII2_4', 'ano']\n"
     ]
    }
   ],
   "source": [
    "# Inspecciono las columnas y su contenido\n",
    "print(\"\\nColumnas de merge_data:\")\n",
    "print(data_2024.columns.tolist())\n"
   ]
  },
  {
   "cell_type": "code",
   "execution_count": 17,
   "metadata": {},
   "outputs": [
    {
     "name": "stdout",
     "output_type": "stream",
     "text": [
      "Columnas eliminadas: ['VII1_1', 'VII1_2', 'VII2_1', 'VII2_2', 'VII2_3', 'VII2_4']\n",
      "\n",
      "Dimensiones después de eliminar columnas: (14698, 263)\n"
     ]
    }
   ],
   "source": [
    "# Columnas a eliminar\n",
    "columnas_eliminar = [\n",
    "    # categorías de ingreso derivadas\n",
    "    \"DECCFR\", \"IDECCFR\", \"RDECCFR\", \"GDECCFR\", \"PDECCFR\", \"ADECCFR\",\n",
    "    # variables de hogar poco relevantes\n",
    "    \"VII1_1\", \"VII1_2\", \"VII2_1\", \"VII2_2\", \"VII2_3\", \"VII2_4\",\n",
    "    # variables de ubicación (ya están en aglomerados)\n",
    "    \"REGION\", \"MAS_500\",\n",
    "    # ponderaciones (si no usamos pesos)\n",
    "    \"PONDERA\", \"PONDIH\"\n",
    "]\n",
    "\n",
    "# Limpiar columnas\n",
    "cols_existentes = [col for col in columnas_eliminar if col in merge_data.columns]\n",
    "merge_data = merge_data.drop(columns=cols_existentes)\n",
    "cols_existentes = [col for col in columnas_eliminar if col in data_2004.columns]\n",
    "data_2004= data_2004.drop(columns=cols_existentes)\n",
    "cols_existentes = [col for col in columnas_eliminar if col in data_2024.columns]\n",
    "data_2024= data_2024.drop(columns=cols_existentes)\n",
    "\n",
    "\n",
    "print(f\"Columnas eliminadas: {cols_existentes}\")\n",
    "\n",
    "# Verificar dimensiones después de eliminar columnas\n",
    "print(\"\\nDimensiones después de eliminar columnas:\", merge_data.shape)\n"
   ]
  },
  {
   "cell_type": "code",
   "execution_count": 18,
   "metadata": {},
   "outputs": [
    {
     "data": {
      "text/plain": [
       "ESTADO\n",
       "Ocupado                                                         3079\n",
       "Inactivo                                                        2800\n",
       "Menor de 10 años                                                1230\n",
       "Desocupado                                                       528\n",
       "Entrevista individual no realizada (no respuesta al cuestion      10\n",
       "Name: count, dtype: int64"
      ]
     },
     "execution_count": 18,
     "metadata": {},
     "output_type": "execute_result"
    }
   ],
   "source": [
    "data_2004['ESTADO'].value_counts()"
   ]
  },
  {
   "cell_type": "code",
   "execution_count": 19,
   "metadata": {},
   "outputs": [
    {
     "data": {
      "text/plain": [
       "ESTADO\n",
       "1    3224\n",
       "3    2662\n",
       "4     813\n",
       "2     311\n",
       "0      41\n",
       "Name: count, dtype: int64"
      ]
     },
     "execution_count": 19,
     "metadata": {},
     "output_type": "execute_result"
    }
   ],
   "source": [
    "data_2024['ESTADO'].value_counts()"
   ]
  },
  {
   "cell_type": "code",
   "execution_count": 20,
   "metadata": {},
   "outputs": [
    {
     "name": "stdout",
     "output_type": "stream",
     "text": [
      "\n",
      "Procesando valores NaN y datos inválidos...\n"
     ]
    },
    {
     "name": "stderr",
     "output_type": "stream",
     "text": [
      "C:\\Users\\fstrejilevich\\AppData\\Local\\Temp\\2\\ipykernel_21328\\2514536670.py:18: FutureWarning: Downcasting behavior in `replace` is deprecated and will be removed in a future version. To retain the old behavior, explicitly call `result.infer_objects(copy=False)`. To opt-in to the future behavior, set `pd.set_option('future.no_silent_downcasting', True)`\n",
      "  merge_data.replace([9, 99, 999, 9999], np.nan, inplace=True)\n",
      "C:\\Users\\fstrejilevich\\AppData\\Local\\Temp\\2\\ipykernel_21328\\2514536670.py:19: FutureWarning: The behavior of Series.replace (and DataFrame.replace) with CategoricalDtype is deprecated. In a future version, replace will only be used for cases that preserve the categories. To change the categories, use ser.cat.rename_categories instead.\n",
      "  data_2004.replace([9, 99, 999, 9999], np.nan, inplace=True)\n",
      "C:\\Users\\fstrejilevich\\AppData\\Local\\Temp\\2\\ipykernel_21328\\2514536670.py:20: FutureWarning: Downcasting behavior in `replace` is deprecated and will be removed in a future version. To retain the old behavior, explicitly call `result.infer_objects(copy=False)`. To opt-in to the future behavior, set `pd.set_option('future.no_silent_downcasting', True)`\n",
      "  data_2024.replace([9, 99, 999, 9999], np.nan, inplace=True)\n"
     ]
    },
    {
     "name": "stdout",
     "output_type": "stream",
     "text": [
      "\n",
      "Dimensiones finales de merge_data: (14243, 263)\n",
      "\n",
      "Valores NaN restantes por columna:\n",
      "CODUSU            0\n",
      "NRO_HOGAR         0\n",
      "COMPONENTE        0\n",
      "H15               0\n",
      "ANO4_x            0\n",
      "              ...  \n",
      "IMPUTA        14168\n",
      "PONDIIO        7377\n",
      "PONDII         7378\n",
      "PONDIH_x       7377\n",
      "PONDIH_y       7377\n",
      "Length: 263, dtype: int64\n"
     ]
    }
   ],
   "source": [
    "# Tratamiento de valores NaN y datos inválidos\n",
    "print(\"\\nProcesando valores NaN y datos inválidos...\")\n",
    "\n",
    "# Columnas clave para tratamiento\n",
    "columnas_clave = ['CODUSU', 'NRO_HOGAR', 'CH06', 'IX_TOT', 'IPCF', 'NIVEL_ED']\n",
    "columnas_clave_existentes = [col for col in columnas_clave if col in merge_data.columns]\n",
    "\n",
    "# Eliminar filas con NaN en columnas clave\n",
    "merge_data.dropna(subset=columnas_clave_existentes, inplace=True)\n",
    "\n",
    "#columnas_clave_validas = [col for col in columnas_clave_existentes if col in data_2004.columns]\n",
    "#data_2004.dropna(subset=columnas_clave_validas, inplace=True)\n",
    "\n",
    "#columnas_clave_validas = [col for col in columnas_clave_existentes if col in data_2024.columns]\n",
    "#data_2024.dropna(subset=columnas_clave_validas, inplace=True)\n",
    "\n",
    "# Reemplazar valores inválidos como 9, 99, 999, 9999 con NaN\n",
    "merge_data.replace([9, 99, 999, 9999], np.nan, inplace=True)\n",
    "data_2004.replace([9, 99, 999, 9999], np.nan, inplace=True)\n",
    "data_2024.replace([9, 99, 999, 9999], np.nan, inplace=True)\n",
    "# Eliminar filas con NaN en columnas críticas\n",
    "columnas_criticas = ['CH06', 'IX_TOT', 'IPCF']\n",
    "columnas_criticas_existentes = [col for col in columnas_criticas if col in merge_data.columns]\n",
    "merge_data.dropna(subset=columnas_criticas_existentes, inplace=True)\n",
    "#data_2004.dropna(subset=columnas_criticas_existentes, inplace=True)\n",
    "#data_2024.dropna(subset=columnas_criticas_existentes, inplace=True)\n",
    "\n",
    "# Rellenar valores NaN en columnas categóricas con 'Desconocido'\n",
    "cat_cols = merge_data.select_dtypes(include=['object']).columns\n",
    "#cat_cols_2004_valid = [col for col in cat_cols if col in data_2004.columns]\n",
    "#cat_cols_2024_valid = [col for col in cat_cols if col in data_2024.columns]\n",
    "#cat_cols_2004_valid = data_2004.select_dtypes(include=['object']).columns\n",
    "#cat_cols_2024_valid = data_2024.select_dtypes(include=['object']).columns\n",
    "merge_data[cat_cols] = merge_data[cat_cols].fillna('Desconocido')\n",
    "#data_2004[cat_cols_2004_valid] = data_2004[cat_cols_2004_valid].fillna('Desconocido')\n",
    "#data_2024[cat_cols_2024_valid] = data_2024[cat_cols_2024_valid].fillna('Desconocido')\n",
    "\n",
    "\n",
    "\n",
    "# Verificar dimensiones finales y resumen de NaN\n",
    "print(\"\\nDimensiones finales de merge_data:\", merge_data.shape)\n",
    "print(\"\\nValores NaN restantes por columna:\")\n",
    "print(merge_data.isnull().sum())"
   ]
  },
  {
   "cell_type": "code",
   "execution_count": 21,
   "metadata": {},
   "outputs": [
    {
     "data": {
      "text/plain": [
       "ESTADO\n",
       "Ocupado                                                         3079\n",
       "Inactivo                                                        2800\n",
       "Menor de 10 años                                                1230\n",
       "Desocupado                                                       528\n",
       "Entrevista individual no realizada (no respuesta al cuestion      10\n",
       "Name: count, dtype: int64"
      ]
     },
     "execution_count": 21,
     "metadata": {},
     "output_type": "execute_result"
    }
   ],
   "source": [
    "data_2004['ESTADO'].value_counts()"
   ]
  },
  {
   "cell_type": "code",
   "execution_count": 22,
   "metadata": {},
   "outputs": [
    {
     "data": {
      "text/plain": [
       "ESTADO\n",
       "1    3224\n",
       "3    2662\n",
       "4     813\n",
       "2     311\n",
       "0      41\n",
       "Name: count, dtype: int64"
      ]
     },
     "execution_count": 22,
     "metadata": {},
     "output_type": "execute_result"
    }
   ],
   "source": [
    "data_2024['ESTADO'].value_counts()"
   ]
  },
  {
   "cell_type": "markdown",
   "metadata": {},
   "source": [
    "##### Basicamente limpie datos con lo que dijo nacho y algunos otros criterios, en principio elimine columnas que toman respuestas de lo que respondieron en otra variable, como las categorías de ingreso (DECCFR, IDECCFR, etc.) que derivan del ingreso per cápita (IPCF). También saqué variables redundantes de ubicación como REGION y MAS_500, ya que AGLOMERADO ya las engloba. Además, descarté detalles menos útiles del hogar (VII1_1, VII2_1, etc.) que no aportan valor directo al análisis, y ponderaciones como PONDERA que no vamos a usar ahora. En resumen, me enfoqué en quedarme solo con las columnas que son relevantes para las siguientes etapas del análisis.\""
   ]
  },
  {
   "cell_type": "markdown",
   "metadata": {},
   "source": [
    "# Punto 4- Formar 3 variables que me puedan predecir la desocupación"
   ]
  },
  {
   "cell_type": "markdown",
   "metadata": {},
   "source": [
    "### Variable 1- Edad promedio hogar"
   ]
  },
  {
   "cell_type": "code",
   "execution_count": 23,
   "metadata": {},
   "outputs": [
    {
     "name": "stderr",
     "output_type": "stream",
     "text": [
      "C:\\Users\\fstrejilevich\\AppData\\Local\\Temp\\2\\ipykernel_21328\\1206945774.py:6: PerformanceWarning: DataFrame is highly fragmented.  This is usually the result of calling `frame.insert` many times, which has poor performance.  Consider joining all columns at once using pd.concat(axis=1) instead. To get a de-fragmented frame, use `newframe = frame.copy()`\n",
      "  merge_data['EDAD_PROMEDIO_HOGAR'] = merge_data.groupby(['CODUSU', 'NRO_HOGAR'])['CH06'].transform('mean')\n"
     ]
    }
   ],
   "source": [
    "# Aseguramos que la columna CH06 sea numérica\n",
    "merge_data['CH06'] = pd.to_numeric(merge_data['CH06'], errors='coerce')\n",
    "data_2004['CH06'] = pd.to_numeric(data_2004['CH06'], errors='coerce')\n",
    "data_2024['CH06'] = pd.to_numeric(data_2024['CH06'], errors='coerce')\n",
    "# Edad promedio por hogar (EDAD_PROMEDIO_HOGAR)\n",
    "merge_data['EDAD_PROMEDIO_HOGAR'] = merge_data.groupby(['CODUSU', 'NRO_HOGAR'])['CH06'].transform('mean')\n",
    "data_2004['EDAD_PROMEDIO_HOGAR'] = data_2004.groupby(['CODUSU', 'NRO_HOGAR'])['CH06'].transform('mean')\n",
    "data_2024['EDAD_PROMEDIO_HOGAR'] = data_2024.groupby(['CODUSU', 'NRO_HOGAR'])['CH06'].transform('mean')\n"
   ]
  },
  {
   "cell_type": "markdown",
   "metadata": {},
   "source": [
    "### Variable 2- Mapeo el nivel educativo y lo convierto a numeros"
   ]
  },
  {
   "cell_type": "code",
   "execution_count": 24,
   "metadata": {},
   "outputs": [
    {
     "name": "stderr",
     "output_type": "stream",
     "text": [
      "C:\\Users\\fstrejilevich\\AppData\\Local\\Temp\\2\\ipykernel_21328\\4123729238.py:12: PerformanceWarning: DataFrame is highly fragmented.  This is usually the result of calling `frame.insert` many times, which has poor performance.  Consider joining all columns at once using pd.concat(axis=1) instead. To get a de-fragmented frame, use `newframe = frame.copy()`\n",
      "  merge_data['NIVEL_ED_NUM'] = merge_data['NIVEL_ED'].replace(niveles_educativos)\n",
      "C:\\Users\\fstrejilevich\\AppData\\Local\\Temp\\2\\ipykernel_21328\\4123729238.py:13: FutureWarning: The behavior of Series.replace (and DataFrame.replace) with CategoricalDtype is deprecated. In a future version, replace will only be used for cases that preserve the categories. To change the categories, use ser.cat.rename_categories instead.\n",
      "  data_2004['NIVEL_ED_NUM'] = data_2004['NIVEL_ED'].replace(niveles_educativos)\n"
     ]
    }
   ],
   "source": [
    "#Crear la variable 'NIVEL_EDUCATIVO': Convertir a valores numéricos para el nivel educativo\n",
    "niveles_educativos = {\n",
    "    'Sin instrucción': 0,\n",
    "    'Primaria Incompleta': 1,\n",
    "    'Primaria Completa': 2,\n",
    "    'Secundaria Incompleta': 3,\n",
    "    'Secundaria Completa': 4,\n",
    "    'Superior Universitaria Incompleta': 5,\n",
    "    'Superior Universitaria Completa': 6,\n",
    "    'Ns./Nr.': None  # Manejar como NaN\n",
    "}\n",
    "merge_data['NIVEL_ED_NUM'] = merge_data['NIVEL_ED'].replace(niveles_educativos)\n",
    "data_2004['NIVEL_ED_NUM'] = data_2004['NIVEL_ED'].replace(niveles_educativos)\n",
    "data_2024['NIVEL_ED_NUM'] = data_2024['NIVEL_ED'].replace(niveles_educativos)\n"
   ]
  },
  {
   "cell_type": "markdown",
   "metadata": {},
   "source": [
    "### Variable 3- Proporcion de personas con educación superior por hogar "
   ]
  },
  {
   "cell_type": "markdown",
   "metadata": {},
   "source": [
    "###### Se relaciona con la anterior, pueden pensarse como una, pero sirven para analisis diferentes"
   ]
  },
  {
   "cell_type": "code",
   "execution_count": 25,
   "metadata": {},
   "outputs": [
    {
     "name": "stderr",
     "output_type": "stream",
     "text": [
      "C:\\Users\\fstrejilevich\\AppData\\Local\\Temp\\2\\ipykernel_21328\\3116172694.py:7: PerformanceWarning: DataFrame is highly fragmented.  This is usually the result of calling `frame.insert` many times, which has poor performance.  Consider joining all columns at once using pd.concat(axis=1) instead. To get a de-fragmented frame, use `newframe = frame.copy()`\n",
      "  merge_data['PROP_EDUC_SUPERIOR'] = merge_data.groupby(['CODUSU', 'NRO_HOGAR'])['NIVEL_ED_NUM'].transform(lambda x: (x >= 5).sum()) / merge_data.groupby(['CODUSU', 'NRO_HOGAR'])['NRO_HOGAR'].transform('count')\n"
     ]
    }
   ],
   "source": [
    "#Ademas me parece interesante que hagamos proporcion de personas con Educacion superior, ya que tener a alguien con educ supuerior puede influenciar mucho a su hogar\n",
    "#Convierto a numerico pq me daba error\n",
    "merge_data['NIVEL_ED_NUM'] = pd.to_numeric(merge_data['NIVEL_ED_NUM'], errors='coerce')\n",
    "data_2004['NIVEL_ED_NUM'] = pd.to_numeric(data_2004['NIVEL_ED_NUM'], errors='coerce')\n",
    "data_2024['NIVEL_ED_NUM'] = pd.to_numeric(data_2024['NIVEL_ED_NUM'], errors='coerce')\n",
    "\n",
    "merge_data['PROP_EDUC_SUPERIOR'] = merge_data.groupby(['CODUSU', 'NRO_HOGAR'])['NIVEL_ED_NUM'].transform(lambda x: (x >= 5).sum()) / merge_data.groupby(['CODUSU', 'NRO_HOGAR'])['NRO_HOGAR'].transform('count')\n",
    "data_2004['PROP_EDUC_SUPERIOR'] = data_2004.groupby(['CODUSU', 'NRO_HOGAR'])['NIVEL_ED_NUM'].transform(lambda x: (x >= 5).sum()) / data_2004.groupby(['CODUSU', 'NRO_HOGAR'])['NRO_HOGAR'].transform('count')\n",
    "data_2024['PROP_EDUC_SUPERIOR'] = data_2024.groupby(['CODUSU', 'NRO_HOGAR'])['NIVEL_ED_NUM'].transform(lambda x: (x >= 5).sum()) / data_2024.groupby(['CODUSU', 'NRO_HOGAR'])['NRO_HOGAR'].transform('count')\n"
   ]
  },
  {
   "cell_type": "markdown",
   "metadata": {},
   "source": [
    "### Variable 4- Estado civil como numerica"
   ]
  },
  {
   "cell_type": "code",
   "execution_count": 26,
   "metadata": {},
   "outputs": [
    {
     "name": "stderr",
     "output_type": "stream",
     "text": [
      "C:\\Users\\fstrejilevich\\AppData\\Local\\Temp\\2\\ipykernel_21328\\3177539982.py:5: PerformanceWarning: DataFrame is highly fragmented.  This is usually the result of calling `frame.insert` many times, which has poor performance.  Consider joining all columns at once using pd.concat(axis=1) instead. To get a de-fragmented frame, use `newframe = frame.copy()`\n",
      "  merge_data['ESTADO_CIVIL_NUM'] = merge_data['CH07'].replace(estado_civil)\n",
      "C:\\Users\\fstrejilevich\\AppData\\Local\\Temp\\2\\ipykernel_21328\\3177539982.py:6: FutureWarning: The behavior of Series.replace (and DataFrame.replace) with CategoricalDtype is deprecated. In a future version, replace will only be used for cases that preserve the categories. To change the categories, use ser.cat.rename_categories instead.\n",
      "  data_2004['ESTADO_CIVIL_NUM'] = data_2004['CH07'].replace(estado_civil)\n"
     ]
    }
   ],
   "source": [
    "# Convierto estado civil en números\n",
    "estado_civil = {\n",
    "    'Unido': 1, 'Casado': 2, 'Separado o divorciado': 3, 'Viudo': 4, 'Soltero': 5\n",
    "}\n",
    "merge_data['ESTADO_CIVIL_NUM'] = merge_data['CH07'].replace(estado_civil)\n",
    "data_2004['ESTADO_CIVIL_NUM'] = data_2004['CH07'].replace(estado_civil)\n",
    "data_2024['ESTADO_CIVIL_NUM'] = data_2024['CH07'].replace(estado_civil)"
   ]
  },
  {
   "cell_type": "markdown",
   "metadata": {},
   "source": [
    "### Variable 5- Tiene pareja (Casado o Unido)"
   ]
  },
  {
   "cell_type": "markdown",
   "metadata": {},
   "source": [
    "###### Pasa algo similar al anteiror pueden pensarse como una, pero pasarla a numerica permite ver muchos analisis en el punto 5"
   ]
  },
  {
   "cell_type": "code",
   "execution_count": 27,
   "metadata": {},
   "outputs": [
    {
     "name": "stderr",
     "output_type": "stream",
     "text": [
      "C:\\Users\\fstrejilevich\\AppData\\Local\\Temp\\2\\ipykernel_21328\\4198414838.py:2: PerformanceWarning: DataFrame is highly fragmented.  This is usually the result of calling `frame.insert` many times, which has poor performance.  Consider joining all columns at once using pd.concat(axis=1) instead. To get a de-fragmented frame, use `newframe = frame.copy()`\n",
      "  merge_data['TIENE_PAREJA'] = merge_data['CH07'].apply(lambda x: 1 if x in ['Unido', 'Casado'] else 0)\n"
     ]
    }
   ],
   "source": [
    "#separo casado y unido para separar los que estan en pareja\n",
    "merge_data['TIENE_PAREJA'] = merge_data['CH07'].apply(lambda x: 1 if x in ['Unido', 'Casado'] else 0)\n",
    "data_2004['TIENE_PAREJA'] = data_2004['CH07'].apply(lambda x: 1 if x in ['Unido', 'Casado'] else 0)\n",
    "data_2024['TIENE_PAREJA'] = data_2024['CH07'].apply(lambda x: 1 if x in ['Unido', 'Casado'] else 0)"
   ]
  },
  {
   "cell_type": "markdown",
   "metadata": {},
   "source": [
    "### Veo como van quedando las columnas"
   ]
  },
  {
   "cell_type": "code",
   "execution_count": 28,
   "metadata": {},
   "outputs": [
    {
     "name": "stdout",
     "output_type": "stream",
     "text": [
      "\n",
      "Nuevas variables creadas:\n",
      "     CODUSU  NRO_HOGAR  EDAD_PROMEDIO_HOGAR  NIVEL_ED_NUM  PROP_EDUC_SUPERIOR  \\\n",
      "0  125098          1.0                 79.0           3.0                0.00   \n",
      "1  125397          1.0                 67.0           2.0                0.00   \n",
      "2  125515          1.0                 74.0           2.0                0.00   \n",
      "3  125558          1.0                 37.5           2.0                0.75   \n",
      "4  125558          1.0                 37.5           6.0                0.75   \n",
      "\n",
      "  ESTADO_CIVIL_NUM  TIENE_PAREJA  \n",
      "0                4             0  \n",
      "1                3             0  \n",
      "2                4             0  \n",
      "3                2             1  \n",
      "4                2             1  \n"
     ]
    }
   ],
   "source": [
    "print(\"\\nNuevas variables creadas:\")\n",
    "print(merge_data[['CODUSU', 'NRO_HOGAR', 'EDAD_PROMEDIO_HOGAR', 'NIVEL_ED_NUM', \"PROP_EDUC_SUPERIOR\",'ESTADO_CIVIL_NUM','TIENE_PAREJA']].head())"
   ]
  },
  {
   "cell_type": "markdown",
   "metadata": {},
   "source": [
    "# Punto 5- Estadísticas descriptivas de tres variables"
   ]
  },
  {
   "cell_type": "code",
   "execution_count": 29,
   "metadata": {},
   "outputs": [
    {
     "name": "stdout",
     "output_type": "stream",
     "text": [
      "Estadísticas descriptivas de las variables:\n",
      "       EDAD_PROMEDIO_HOGAR  PROP_EDUC_SUPERIOR  TIENE_PAREJA\n",
      "count         14243.000000        14243.000000  14243.000000\n",
      "mean             36.497463            0.262515      0.221372\n",
      "std              17.267704            0.327469      0.415185\n",
      "min               9.000000            0.000000      0.000000\n",
      "25%              23.666667            0.000000      0.000000\n",
      "50%              31.500000            0.142857      0.000000\n",
      "75%              45.333333            0.500000      0.000000\n",
      "max              97.000000            1.000000      1.000000\n"
     ]
    }
   ],
   "source": [
    "import matplotlib.pyplot as plt\n",
    "import seaborn as sns\n",
    "\n",
    "#Descripcion de las variables que calculé antes\n",
    "variables_a_describir = ['EDAD_PROMEDIO_HOGAR', 'PROP_EDUC_SUPERIOR', 'ESTADO_CIVIL_NUM', 'TIENE_PAREJA']\n",
    "print(\"Estadísticas descriptivas de las variables:\")\n",
    "print(merge_data[variables_a_describir].describe())"
   ]
  },
  {
   "cell_type": "markdown",
   "metadata": {},
   "source": [
    "### Distribución de ESTADO_CIVIL"
   ]
  },
  {
   "cell_type": "code",
   "execution_count": 30,
   "metadata": {},
   "outputs": [
    {
     "data": {
      "image/png": "[encoded data removed]",
      "text/plain": [
       "<Figure size 800x400 with 1 Axes>"
      ]
     },
     "metadata": {},
     "output_type": "display_data"
    }
   ],
   "source": [
    "# Aseguramos que la columna sea numérica\n",
    "merge_data['ESTADO_CIVIL_NUM'] = pd.to_numeric(merge_data['ESTADO_CIVIL_NUM'], errors='coerce')\n",
    "\n",
    "# Calculamos frecuencias y las ordenamos\n",
    "estado_civil_frecuencia = merge_data['ESTADO_CIVIL_NUM'].value_counts().sort_index()\n",
    "\n",
    "# Etiquetas para los niveles\n",
    "estado_civil_labels = ['Unido', 'Casado', 'Separado/Divorciado', 'Viudo', 'Soltero']\n",
    "\n",
    "# Gráfico\n",
    "plt.figure(figsize=(8, 4))\n",
    "estado_civil_frecuencia.plot(kind='bar', color='skyblue')\n",
    "plt.title('Distribución de Estado Civil')\n",
    "plt.xlabel('Estado Civil')\n",
    "plt.ylabel('Frecuencia')\n",
    "plt.xticks(ticks=range(len(estado_civil_labels)), labels=estado_civil_labels, rotation=45)\n",
    "plt.tight_layout()\n",
    "plt.show()\n"
   ]
  },
  {
   "cell_type": "markdown",
   "metadata": {},
   "source": [
    "### Proporción de personas en pareja"
   ]
  },
  {
   "cell_type": "code",
   "execution_count": 31,
   "metadata": {},
   "outputs": [
    {
     "data": {
      "image/png": "[encoded data removed]",
      "text/plain": [
       "<Figure size 600x400 with 1 Axes>"
      ]
     },
     "metadata": {},
     "output_type": "display_data"
    }
   ],
   "source": [
    "pareja_frecuencia = merge_data['TIENE_PAREJA'].value_counts(normalize=True) * 100\n",
    "pareja_frecuencia.index = ['No en pareja', 'En pareja']\n",
    "\n",
    "plt.figure(figsize=(6, 4))\n",
    "pareja_frecuencia.plot(kind='bar', color=['salmon', 'green'])\n",
    "plt.title('Proporción de personas en pareja')\n",
    "plt.ylabel('Porcentaje')\n",
    "plt.xlabel('Estado')\n",
    "plt.tight_layout()\n",
    "plt.show()"
   ]
  },
  {
   "cell_type": "markdown",
   "metadata": {},
   "source": [
    "### Relación entre TIENE_PAREJA y EDAD_PROMEDIO_HOGAR "
   ]
  },
  {
   "cell_type": "code",
   "execution_count": 32,
   "metadata": {},
   "outputs": [
    {
     "name": "stderr",
     "output_type": "stream",
     "text": [
      "C:\\Users\\fstrejilevich\\AppData\\Local\\Temp\\2\\ipykernel_21328\\3180429608.py:2: FutureWarning: \n",
      "\n",
      "Passing `palette` without assigning `hue` is deprecated and will be removed in v0.14.0. Assign the `x` variable to `hue` and set `legend=False` for the same effect.\n",
      "\n",
      "  sns.boxplot(data=merge_data, x='TIENE_PAREJA', y='EDAD_PROMEDIO_HOGAR', palette='pastel')\n"
     ]
    },
    {
     "data": {
      "image/png": "[encoded data removed]",
      "text/plain": [
       "<Figure size 800x600 with 1 Axes>"
      ]
     },
     "metadata": {},
     "output_type": "display_data"
    }
   ],
   "source": [
    "plt.figure(figsize=(8, 6))\n",
    "sns.boxplot(data=merge_data, x='TIENE_PAREJA', y='EDAD_PROMEDIO_HOGAR', palette='pastel')\n",
    "plt.title('Relación entre estar en pareja y la edad promedio del hogar')\n",
    "plt.ylabel('Edad Promedio del Hogar')\n",
    "plt.xlabel('Tiene Pareja (0: No, 1: Sí)')\n",
    "plt.xticks([0, 1], ['No en pareja', 'En pareja'])\n",
    "plt.tight_layout()\n",
    "plt.show()"
   ]
  },
  {
   "cell_type": "markdown",
   "metadata": {},
   "source": [
    "### Distribucion de estado civil en nivel de educación superior"
   ]
  },
  {
   "cell_type": "code",
   "execution_count": 33,
   "metadata": {},
   "outputs": [
    {
     "name": "stderr",
     "output_type": "stream",
     "text": [
      "C:\\Users\\fstrejilevich\\AppData\\Local\\Temp\\2\\ipykernel_21328\\2923515605.py:4: SettingWithCopyWarning: \n",
      "A value is trying to be set on a copy of a slice from a DataFrame.\n",
      "Try using .loc[row_indexer,col_indexer] = value instead\n",
      "\n",
      "See the caveats in the documentation: https://pandas.pydata.org/pandas-docs/stable/user_guide/indexing.html#returning-a-view-versus-a-copy\n",
      "  filtered_data['ESTADO_CIVIL_NUM'] = filtered_data['ESTADO_CIVIL_NUM'].astype(int)\n",
      "C:\\Users\\fstrejilevich\\AppData\\Local\\Temp\\2\\ipykernel_21328\\2923515605.py:8: FutureWarning: \n",
      "\n",
      "The `ci` parameter is deprecated. Use `errorbar=None` for the same effect.\n",
      "\n",
      "  sns.barplot(\n",
      "C:\\Users\\fstrejilevich\\AppData\\Local\\Temp\\2\\ipykernel_21328\\2923515605.py:8: FutureWarning: \n",
      "\n",
      "Passing `palette` without assigning `hue` is deprecated and will be removed in v0.14.0. Assign the `x` variable to `hue` and set `legend=False` for the same effect.\n",
      "\n",
      "  sns.barplot(\n"
     ]
    },
    {
     "data": {
      "image/png": "[encoded data removed]",
      "text/plain": [
       "<Figure size 1000x600 with 1 Axes>"
      ]
     },
     "metadata": {},
     "output_type": "display_data"
    }
   ],
   "source": [
    "# armo etiquetas y las transformo\n",
    "estado_civil_labels = ['Unido', 'Casado', 'Separado/Divorciado', 'Viudo', 'Soltero']\n",
    "filtered_data = merge_data.dropna(subset=['PROP_EDUC_SUPERIOR', 'ESTADO_CIVIL_NUM'])\n",
    "filtered_data['ESTADO_CIVIL_NUM'] = filtered_data['ESTADO_CIVIL_NUM'].astype(int)\n",
    "\n",
    "# Gráfico\n",
    "plt.figure(figsize=(10, 6))\n",
    "sns.barplot(\n",
    "    data=filtered_data,\n",
    "    x='ESTADO_CIVIL_NUM',\n",
    "    y='PROP_EDUC_SUPERIOR',\n",
    "    palette='viridis',\n",
    "    ci=None,  # Saco intervalo de confianza\n",
    "    order=[1, 2, 3, 4, 5]  # Orden numérico de estados civiles\n",
    ")\n",
    "\n",
    "plt.title('Proporción de educación superior según estado civil')\n",
    "plt.ylabel('Proporción de Educación Superior')\n",
    "plt.xlabel('Estado Civil')\n",
    "plt.xticks(ticks=range(5), labels=estado_civil_labels, rotation=45)\n",
    "plt.tight_layout()\n",
    "plt.show()\n"
   ]
  },
  {
   "cell_type": "markdown",
   "metadata": {},
   "source": [
    "### Histograma de distribución de niveles de educación"
   ]
  },
  {
   "cell_type": "code",
   "execution_count": 34,
   "metadata": {},
   "outputs": [
    {
     "data": {
      "image/png": "[encoded data removed]",
      "text/plain": [
       "<Figure size 800x600 with 1 Axes>"
      ]
     },
     "metadata": {},
     "output_type": "display_data"
    }
   ],
   "source": [
    "# --- Histograma de los niveles educativos ---\n",
    "plt.figure(figsize=(8, 6))\n",
    "sns.histplot(data=merge_data, x='NIVEL_ED_NUM', bins=7, kde=False, color='blue')\n",
    "plt.title('Distribución de Niveles Educativos (NIVEL_ED_NUM)')\n",
    "plt.xlabel('Nivel Educativo (0: Sin instrucción, 6: Superior Universitaria Completa)')\n",
    "plt.ylabel('Frecuencia')\n",
    "plt.xticks(\n",
    "    ticks=[0, 1, 2, 3, 4, 5, 6],\n",
    "    labels=['Sin Instrucción', 'Primaria Inc.', 'Primaria Comp.', \n",
    "            'Secundaria Inc.', 'Secundaria Comp.', 'Superior Inc.', 'Superior Comp.'],\n",
    "    rotation=45\n",
    ")\n",
    "plt.tight_layout()\n",
    "plt.show()\n"
   ]
  },
  {
   "cell_type": "markdown",
   "metadata": {},
   "source": [
    "# PARTE II"
   ]
  },
  {
   "cell_type": "markdown",
   "metadata": {},
   "source": [
    "1) Para cada año, partan la base respondieron en una base de prueba y una\n",
    "de entrenamiento (X_train, y_train, X_test, y_test) utilizando\n",
    "el comando train_test_split. La base de entrenamiento debe\n",
    "comprender el 70% de los datos, y la semilla a utilizar (random state\n",
    "instance) debe ser 101. Establezca a desocupado como su variable\n",
    "dependiente en la base de entrenamiento (vector y). El resto de las\n",
    "variables serán las variables independientes (matriz X). Recuerden\n",
    "agregar la columna de unos (1).\n"
   ]
  },
  {
   "cell_type": "code",
   "execution_count": 86,
   "metadata": {},
   "outputs": [],
   "source": [
    "import sklearn\n",
    "from sklearn.model_selection import train_test_split\n",
    "import numpy as np\n"
   ]
  },
  {
   "cell_type": "code",
   "execution_count": 87,
   "metadata": {},
   "outputs": [
    {
     "name": "stdout",
     "output_type": "stream",
     "text": [
      "ESTADO\n",
      "Ocupado                                                         3079\n",
      "Inactivo                                                        2800\n",
      "Menor de 10 años                                                1230\n",
      "Desocupado                                                       528\n",
      "Entrevista individual no realizada (no respuesta al cuestion       0\n",
      "Name: count, dtype: int64\n"
     ]
    }
   ],
   "source": [
    "data_2004['ESTADO'].value_counts()\n",
    "\n",
    "respondieron2004=data_2004[data_2004['ESTADO']!='Entrevista individual no realizada (no respuesta al cuestion']\n",
    "norespondieron2004=data_2004[data_2004['ESTADO']=='Entrevista individual no realizada (no respuesta al cuestion']\n",
    "print(respondieron2004['ESTADO'].value_counts())"
   ]
  },
  {
   "cell_type": "code",
   "execution_count": 88,
   "metadata": {},
   "outputs": [
    {
     "name": "stdout",
     "output_type": "stream",
     "text": [
      "ESTADO\n",
      "1    3224\n",
      "3    2662\n",
      "4     813\n",
      "2     311\n",
      "Name: count, dtype: int64\n"
     ]
    }
   ],
   "source": [
    "data_2024['ESTADO'].value_counts()\n",
    "\n",
    "respondieron2024=data_2024[data_2024['ESTADO']!=0]\n",
    "norespondieron2004=data_2024[data_2024['ESTADO']==0]\n",
    "print(respondieron2024['ESTADO'].value_counts())"
   ]
  },
  {
   "cell_type": "code",
   "execution_count": 89,
   "metadata": {},
   "outputs": [
    {
     "name": "stdout",
     "output_type": "stream",
     "text": [
      "desocupado\n",
      "0    6699\n",
      "1     311\n",
      "Name: count, dtype: int64\n"
     ]
    },
    {
     "name": "stderr",
     "output_type": "stream",
     "text": [
      "C:\\Users\\fstrejilevich\\AppData\\Local\\Temp\\2\\ipykernel_21328\\842966869.py:1: SettingWithCopyWarning: \n",
      "A value is trying to be set on a copy of a slice from a DataFrame.\n",
      "Try using .loc[row_indexer,col_indexer] = value instead\n",
      "\n",
      "See the caveats in the documentation: https://pandas.pydata.org/pandas-docs/stable/user_guide/indexing.html#returning-a-view-versus-a-copy\n",
      "  respondieron2024['desocupado'] = respondieron2024['ESTADO'].apply(lambda x: 1 if x == 2 else 0)\n"
     ]
    }
   ],
   "source": [
    "respondieron2024['desocupado'] = respondieron2024['ESTADO'].apply(lambda x: 1 if x == 2 else 0)\n",
    "print(respondieron2024['desocupado'].value_counts())"
   ]
  },
  {
   "cell_type": "code",
   "execution_count": 90,
   "metadata": {},
   "outputs": [
    {
     "name": "stdout",
     "output_type": "stream",
     "text": [
      "desocupado\n",
      "0    7109\n",
      "1     528\n",
      "Name: count, dtype: int64\n"
     ]
    },
    {
     "name": "stderr",
     "output_type": "stream",
     "text": [
      "C:\\Users\\fstrejilevich\\AppData\\Local\\Temp\\2\\ipykernel_21328\\2627509188.py:1: SettingWithCopyWarning: \n",
      "A value is trying to be set on a copy of a slice from a DataFrame.\n",
      "Try using .loc[row_indexer,col_indexer] = value instead\n",
      "\n",
      "See the caveats in the documentation: https://pandas.pydata.org/pandas-docs/stable/user_guide/indexing.html#returning-a-view-versus-a-copy\n",
      "  respondieron2004['desocupado'] = respondieron2004['ESTADO'].apply(lambda x: 1 if x == 'Desocupado' else 0)\n"
     ]
    }
   ],
   "source": [
    "respondieron2004['desocupado'] = respondieron2004['ESTADO'].apply(lambda x: 1 if x == 'Desocupado' else 0)\n",
    "print(respondieron2004['desocupado'].value_counts())"
   ]
  },
  {
   "cell_type": "code",
   "execution_count": 91,
   "metadata": {},
   "outputs": [
    {
     "name": "stdout",
     "output_type": "stream",
     "text": [
      "\n",
      "Columnas de merge_data:\n",
      "['CODUSU', 'NRO_HOGAR', 'COMPONENTE', 'H15', 'ANO4_x', 'TRIMESTRE_x', 'REGION_x', 'MAS_500_x', 'AGLOMERADO_x', 'PONDERA_x', 'CH03', 'CH04', 'CH06', 'CH07', 'CH08', 'CH09', 'CH10', 'CH11', 'CH12', 'CH13', 'CH14', 'CH15', 'CH15_COD', 'CH16', 'CH16_COD', 'NIVEL_ED', 'ESTADO', 'CAT_OCUP', 'CAT_INAC', 'PP02C1', 'PP02C2', 'PP02C3', 'PP02C4', 'PP02C5', 'PP02C6', 'PP02C7', 'PP02C8', 'PP02E', 'PP02H', 'PP02I', 'PP03C', 'PP03D', 'PP3E_TOT', 'PP3F_TOT', 'PP03G', 'PP03H', 'PP03I', 'PP03J', 'INTENSI', 'PP04A', 'PP04B_COD', 'PP04B1', 'PP04B2', 'PP04B3_MES', 'PP04B3_ANO', 'PP04B3_DIA', 'PP04C', 'PP04C99', 'PP04D_COD', 'PP04G', 'PP05B2_MES', 'PP05B2_ANO', 'PP05B2_DIA', 'PP05C_1', 'PP05C_2', 'PP05C_3', 'PP05E', 'PP05F', 'PP05H', 'PP06A', 'PP06C', 'PP06D', 'PP06E', 'PP06H', 'PP07A', 'PP07C', 'PP07D', 'PP07E', 'PP07F1', 'PP07F2', 'PP07F3', 'PP07F4', 'PP07F5', 'PP07G1', 'PP07G2', 'PP07G3', 'PP07G4', 'PP07G_59', 'PP07H', 'PP07I', 'PP07J', 'PP07K', 'PP08D1', 'PP08D4', 'PP08F1', 'PP08F2', 'PP08J1', 'PP08J2', 'PP08J3', 'PP09A', 'PP09A_ESP', 'PP09B', 'PP09C', 'PP09C_ESP', 'PP10A', 'PP10C', 'PP10D', 'PP10E', 'PP11A', 'PP11B_COD', 'PP11B1', 'PP11B2_MES', 'PP11B2_ANO', 'PP11B2_DIA', 'PP11C', 'PP11C99', 'PP11D_COD', 'PP11G_ANO', 'PP11G_MES', 'PP11G_DIA', 'PP11L', 'PP11L1', 'PP11M', 'PP11N', 'PP11O', 'PP11P', 'PP11Q', 'PP11R', 'PP11S', 'PP11T', 'P21', 'DECOCUR', 'IDECOCUR', 'RDECOCUR', 'GDECOCUR', 'PDECOCUR', 'ADECOCUR', 'TOT_P12', 'P47T', 'DECINDR', 'IDECINDR', 'RDECINDR', 'GDECINDR', 'PDECINDR', 'ADECINDR', 'V2_M', 'V3_M', 'V4_M', 'V5_M', 'V8_M', 'V9_M', 'V10_M', 'V11_M', 'V12_M', 'V18_M', 'V19_AM', 'V21_M', 'T_VI', 'ITF_x', 'DECIFR_x', 'IDECIFR_x', 'RDECIFR_x', 'GDECIFR_x', 'PDECIFR_x', 'ADECIFR_x', 'IPCF_x', 'DECCFR_x', 'IDECCFR_x', 'RDECCFR_x', 'GDECCFR_x', 'PDECCFR_x', 'ADECCFR_x', 'PJ1_1', 'PJ2_1', 'PJ3_1', 'IDIMPP', 'REALIZADA', 'ANO4_y', 'TRIMESTRE_y', 'REGION_y', 'MAS_500_y', 'AGLOMERADO_y', 'PONDERA_y', 'IV1', 'IV1_ESP', 'IV2', 'IV3', 'IV3_ESP', 'IV4', 'IV5', 'IV6', 'IV7', 'IV7_ESP', 'IV8', 'IV9', 'IV10', 'IV11', 'IV12_1', 'IV12_2', 'IV12_3', 'II1', 'II2', 'II3', 'II3_1', 'II4_1', 'II4_2', 'II4_3', 'II5', 'II5_1', 'II6', 'II6_1', 'II7', 'II7_ESP', 'II8', 'II8_ESP', 'II9', 'V1', 'V2', 'V21', 'V22', 'V3', 'V4', 'V5', 'V6', 'V7', 'V8', 'V9', 'V10', 'V11', 'V12', 'V13', 'V14', 'V15', 'V16', 'V17', 'V18', 'V19_A', 'V19_B', 'IX_TOT', 'IX_MEN10', 'IX_MAYEQ10', 'ITF_y', 'DECIFR_y', 'IDECIFR_y', 'RDECIFR_y', 'GDECIFR_y', 'PDECIFR_y', 'ADECIFR_y', 'IPCF_y', 'DECCFR_y', 'IDECCFR_y', 'RDECCFR_y', 'GDECCFR_y', 'PDECCFR_y', 'ADECCFR_y', 'IDIMPH', 'ano', 'EDAD_PROMEDIO_HOGAR', 'NIVEL_ED_NUM', 'PROP_EDUC_SUPERIOR', 'ESTADO_CIVIL_NUM', 'TIENE_PAREJA']\n"
     ]
    }
   ],
   "source": [
    "# Inspecciono las columnas y su contenido\n",
    "print(\"\\nColumnas de merge_data:\")\n",
    "print(data_2004.columns.tolist())\n",
    "\n"
   ]
  },
  {
   "cell_type": "code",
   "execution_count": 93,
   "metadata": {},
   "outputs": [],
   "source": [
    "respondieron2024=respondieron2024[['CH04', 'CH06', 'CH07', 'CH08', 'NIVEL_ED', 'IPCF_x','IV1','IX_TOT','ITF_x','IV3','IV6','EDAD_PROMEDIO_HOGAR','PROP_EDUC_SUPERIOR','TIENE_PAREJA','desocupado']]\n",
    "respondieron2004=respondieron2004[['CH04', 'CH06', 'CH07', 'CH08', 'NIVEL_ED', 'IPCF_x','IV1','IX_TOT','ITF_x','IV3','IV6','EDAD_PROMEDIO_HOGAR','PROP_EDUC_SUPERIOR','TIENE_PAREJA','desocupado']]\n",
    "respondieron2004['Unos']=1\n",
    "respondieron2024['Unos']=1"
   ]
  },
  {
   "cell_type": "code",
   "execution_count": 94,
   "metadata": {},
   "outputs": [
    {
     "name": "stdout",
     "output_type": "stream",
     "text": [
      "CH04                     0\n",
      "CH06                   107\n",
      "CH07                     0\n",
      "CH08                    12\n",
      "NIVEL_ED                 0\n",
      "IPCF_x                   0\n",
      "IV1                      0\n",
      "IX_TOT                  81\n",
      "ITF_x                    0\n",
      "IV3                      0\n",
      "IV6                      0\n",
      "EDAD_PROMEDIO_HOGAR      0\n",
      "PROP_EDUC_SUPERIOR       0\n",
      "TIENE_PAREJA             0\n",
      "desocupado               0\n",
      "Unos                     0\n",
      "dtype: int64\n"
     ]
    }
   ],
   "source": [
    "conteo_na = respondieron2024.isna().sum()\n",
    "print(conteo_na)\n",
    "respondieron2024 = respondieron2024.dropna()"
   ]
  },
  {
   "cell_type": "code",
   "execution_count": 95,
   "metadata": {},
   "outputs": [
    {
     "name": "stdout",
     "output_type": "stream",
     "text": [
      "CH04                     0\n",
      "CH06                   249\n",
      "CH07                     0\n",
      "CH08                     0\n",
      "NIVEL_ED                 0\n",
      "IPCF_x                   1\n",
      "IV1                      0\n",
      "IX_TOT                 161\n",
      "ITF_x                    1\n",
      "IV3                      0\n",
      "IV6                      0\n",
      "EDAD_PROMEDIO_HOGAR      0\n",
      "PROP_EDUC_SUPERIOR       0\n",
      "TIENE_PAREJA             0\n",
      "desocupado               0\n",
      "Unos                     0\n",
      "dtype: int64\n"
     ]
    }
   ],
   "source": [
    "conteo_na = respondieron2004.isna().sum()\n",
    "print(conteo_na)\n",
    "respondieron2004 = respondieron2004.dropna()"
   ]
  },
  {
   "cell_type": "code",
   "execution_count": 96,
   "metadata": {},
   "outputs": [],
   "source": [
    "#separación de variables en respondieron y no respondieron\n",
    "y2004=respondieron2004['desocupado']\n",
    "y2024=respondieron2024['desocupado']\n",
    "x2004=respondieron2004.drop(columns=['desocupado'])\n",
    "x2024=respondieron2024.drop(columns=['desocupado'])"
   ]
  },
  {
   "cell_type": "code",
   "execution_count": 97,
   "metadata": {},
   "outputs": [
    {
     "name": "stdout",
     "output_type": "stream",
     "text": [
      "['CH04', 'CH06', 'CH07', 'CH08', 'NIVEL_ED', 'IPCF_x', 'IV1', 'IX_TOT', 'ITF_x', 'IV3', 'IV6', 'EDAD_PROMEDIO_HOGAR', 'PROP_EDUC_SUPERIOR', 'TIENE_PAREJA', 'Unos']\n"
     ]
    }
   ],
   "source": [
    "print(x2024.columns.tolist())\n"
   ]
  },
  {
   "cell_type": "code",
   "execution_count": 98,
   "metadata": {},
   "outputs": [
    {
     "name": "stdout",
     "output_type": "stream",
     "text": [
      "['CH04', 'CH06', 'CH07', 'CH08', 'NIVEL_ED', 'IPCF_x', 'IV1', 'IX_TOT', 'ITF_x', 'IV3', 'IV6', 'EDAD_PROMEDIO_HOGAR', 'PROP_EDUC_SUPERIOR', 'TIENE_PAREJA', 'Unos']\n"
     ]
    }
   ],
   "source": [
    "print(x2004.columns.tolist())"
   ]
  },
  {
   "cell_type": "code",
   "execution_count": 99,
   "metadata": {},
   "outputs": [
    {
     "name": "stdout",
     "output_type": "stream",
     "text": [
      "Columnas categóricas: ['CH04', 'CH07', 'CH08', 'NIVEL_ED', 'IV1', 'IV3', 'IV6']\n"
     ]
    }
   ],
   "source": [
    "#Se busca usando la base 2004 para conseguir las categoricas\n",
    "columnas_categoricas = x2004.select_dtypes(include='category').columns\n",
    "print(\"Columnas categóricas:\", columnas_categoricas.tolist())"
   ]
  },
  {
   "cell_type": "code",
   "execution_count": 100,
   "metadata": {},
   "outputs": [],
   "source": [
    "#dummys\n",
    "columnas_categoricas =['CH04', 'CH07', 'CH08', 'NIVEL_ED', 'IV1', 'IV3', 'IV6'] \n",
    "x2004=pd.get_dummies(x2004, columns=columnas_categoricas, drop_first=True)\n",
    "x2024=pd.get_dummies(x2024, columns=columnas_categoricas, drop_first=True)"
   ]
  },
  {
   "cell_type": "code",
   "execution_count": 101,
   "metadata": {},
   "outputs": [
    {
     "name": "stdout",
     "output_type": "stream",
     "text": [
      "['CH06', 'IPCF_x', 'IX_TOT', 'ITF_x', 'EDAD_PROMEDIO_HOGAR', 'PROP_EDUC_SUPERIOR', 'TIENE_PAREJA', 'Unos', 'CH04_Mujer', 'CH07_Casado', 'CH07_Separado o divorciado', 'CH07_Viudo', 'CH07_Soltero', 'CH07_Ns./Nr.', 'CH08_Mutual/Prepaga/Servicio de emergencia', 'CH08_Planes y seguros públicos', 'CH08_No paga ni le descuentan', 'CH08_Ns./Nr.', 'CH08_Obra social y mutual/prepaga/servicio de emergencia', 'CH08_Obra social y planes y seguros públicos', 'CH08_Mutual/prepaga/servicio de emergencia/planes y seguros públi', 'CH08_Obra social, mutual/prepaga/servicio de emergencia y planes', 'NIVEL_ED_Primaria Completa', 'NIVEL_ED_Secundaria Incompleta', 'NIVEL_ED_Secundaria Completa', 'NIVEL_ED_Superior Universitaria Incompleta', 'NIVEL_ED_Superior Universitaria Completa', 'NIVEL_ED_Sin instrucción', 'IV1_Departamento', 'IV1_Pieza de inquilinato', 'IV1_Pieza en hotel/pensión', 'IV1_Local no construido para habitación', 'IV1_Otro', 'IV3_Mosaico/baldosa/madera/cerámica/alfombra', 'IV3_Cemento/ladrillo fijo', 'IV3_Ladrillo suelto/tierra', 'IV3_Otro', 'IV6_Por cañería dentro de la vivienda', 'IV6_Fuera de la vivienda pero dentro del terreno', 'IV6_Fuera del terreno']\n"
     ]
    }
   ],
   "source": [
    "print(x2004.columns.tolist())"
   ]
  },
  {
   "cell_type": "code",
   "execution_count": 85,
   "metadata": {},
   "outputs": [
    {
     "name": "stdout",
     "output_type": "stream",
     "text": [
      "['CH06', 'IPCF_x', 'IX_TOT', 'ITF_x', 'EDAD_PROMEDIO_HOGAR', 'PROP_EDUC_SUPERIOR', 'TIENE_PAREJA', 'Unos', 'CH04_2', 'CH07_2.0', 'CH07_3.0', 'CH07_4.0', 'CH07_5.0', 'CH08_2.0', 'CH08_3.0', 'CH08_4.0', 'CH08_12.0', 'CH08_13.0', 'CH08_23.0', 'NIVEL_ED_2', 'NIVEL_ED_3', 'NIVEL_ED_4', 'NIVEL_ED_5', 'NIVEL_ED_6', 'NIVEL_ED_7', 'IV1_2', 'IV1_3', 'IV1_4', 'IV1_5', 'IV1_6', 'IV2_2.0', 'IV2_3.0', 'IV2_4.0', 'IV2_5.0', 'IV2_6.0', 'IV2_7.0', 'IV2_8.0', 'IV3_2', 'IV3_3', 'IV3_4', 'IV6_2', 'IV6_3']\n"
     ]
    }
   ],
   "source": [
    "print(x2024.columns.tolist())"
   ]
  },
  {
   "cell_type": "code",
   "execution_count": 102,
   "metadata": {},
   "outputs": [],
   "source": [
    "xtrain2024, xtest2024, ytrain2024, ytest2024 = train_test_split(x2024, y2024, test_size=0.3, random_state=101)\n",
    "xtrain2004, xtest2004, ytrain2004, ytest2004 = train_test_split(x2004, y2004, test_size=0.3, random_state=101)"
   ]
  },
  {
   "cell_type": "markdown",
   "metadata": {},
   "source": [
    "4) Para regresión logística, implementen la penalidad, L1 como la de\n",
    "LASSO y L2 como la de Ridge con λ = 1 (como en la Tutorial 10), usando\n",
    "la opción penalty y reporten la matriz de confusión, la curva ROC, los\n",
    "valores de AUC y de Accuracy para cada año.1 ¿Cómo cambiaron los\n",
    "resultados con respecto al TP3? ¿La performance de regresión logística\n",
    "con regularización es mejor o peor?\n"
   ]
  },
  {
   "cell_type": "code",
   "execution_count": 103,
   "metadata": {},
   "outputs": [
    {
     "name": "stdout",
     "output_type": "stream",
     "text": [
      "Columnas de entrenamiento: Index(['CH06', 'IPCF_x', 'IX_TOT', 'ITF_x', 'EDAD_PROMEDIO_HOGAR',\n",
      "       'PROP_EDUC_SUPERIOR', 'TIENE_PAREJA', 'Unos', 'CH04_2', 'CH07_2.0',\n",
      "       'CH07_3.0', 'CH07_4.0', 'CH07_5.0', 'CH08_2.0', 'CH08_3.0', 'CH08_4.0',\n",
      "       'CH08_12.0', 'CH08_13.0', 'CH08_23.0', 'NIVEL_ED_2', 'NIVEL_ED_3',\n",
      "       'NIVEL_ED_4', 'NIVEL_ED_5', 'NIVEL_ED_6', 'NIVEL_ED_7', 'IV1_2',\n",
      "       'IV1_3', 'IV1_4', 'IV1_5', 'IV1_6', 'IV3_2', 'IV3_3', 'IV3_4', 'IV6_2',\n",
      "       'IV6_3'],\n",
      "      dtype='object')\n",
      "Columnas de prueba 2004: Index(['CH06', 'IPCF_x', 'IX_TOT', 'ITF_x', 'EDAD_PROMEDIO_HOGAR',\n",
      "       'PROP_EDUC_SUPERIOR', 'TIENE_PAREJA', 'Unos', 'CH04_2', 'CH07_2.0',\n",
      "       'CH07_3.0', 'CH07_4.0', 'CH07_5.0', 'CH08_2.0', 'CH08_3.0', 'CH08_4.0',\n",
      "       'CH08_12.0', 'CH08_13.0', 'CH08_23.0', 'NIVEL_ED_2', 'NIVEL_ED_3',\n",
      "       'NIVEL_ED_4', 'NIVEL_ED_5', 'NIVEL_ED_6', 'NIVEL_ED_7', 'IV1_2',\n",
      "       'IV1_3', 'IV1_4', 'IV1_5', 'IV1_6', 'IV3_2', 'IV3_3', 'IV3_4', 'IV6_2',\n",
      "       'IV6_3'],\n",
      "      dtype='object')\n"
     ]
    }
   ],
   "source": [
    "print(\"Columnas de entrenamiento:\", xtrain2024.columns)\n",
    "print(\"Columnas de prueba 2004:\", xtest2024.columns)\n",
    "\n"
   ]
  },
  {
   "cell_type": "code",
   "execution_count": 104,
   "metadata": {},
   "outputs": [],
   "source": [
    "from sklearn.preprocessing import StandardScaler\n",
    "sc = StandardScaler()\n",
    "xtrain2024=pd.DataFrame(sc.fit_transform(xtrain2024), index=xtrain2024.index, columns=xtrain2024.columns)\n",
    "xtest2024=pd.DataFrame(sc.fit_transform(xtest2024), index=xtest2024.index, columns=xtest2024.columns)"
   ]
  },
  {
   "cell_type": "code",
   "execution_count": 105,
   "metadata": {},
   "outputs": [
    {
     "data": {
      "text/html": [
       "<style>#sk-container-id-3 {\n",
       "  /* Definition of color scheme common for light and dark mode */\n",
       "  --sklearn-color-text: black;\n",
       "  --sklearn-color-line: gray;\n",
       "  /* Definition of color scheme for unfitted estimators */\n",
       "  --sklearn-color-unfitted-level-0: #fff5e6;\n",
       "  --sklearn-color-unfitted-level-1: #f6e4d2;\n",
       "  --sklearn-color-unfitted-level-2: #ffe0b3;\n",
       "  --sklearn-color-unfitted-level-3: chocolate;\n",
       "  /* Definition of color scheme for fitted estimators */\n",
       "  --sklearn-color-fitted-level-0: #f0f8ff;\n",
       "  --sklearn-color-fitted-level-1: #d4ebff;\n",
       "  --sklearn-color-fitted-level-2: #b3dbfd;\n",
       "  --sklearn-color-fitted-level-3: cornflowerblue;\n",
       "\n",
       "  /* Specific color for light theme */\n",
       "  --sklearn-color-text-on-default-background: var(--sg-text-color, var(--theme-code-foreground, var(--jp-content-font-color1, black)));\n",
       "  --sklearn-color-background: var(--sg-background-color, var(--theme-background, var(--jp-layout-color0, white)));\n",
       "  --sklearn-color-border-box: var(--sg-text-color, var(--theme-code-foreground, var(--jp-content-font-color1, black)));\n",
       "  --sklearn-color-icon: #696969;\n",
       "\n",
       "  @media (prefers-color-scheme: dark) {\n",
       "    /* Redefinition of color scheme for dark theme */\n",
       "    --sklearn-color-text-on-default-background: var(--sg-text-color, var(--theme-code-foreground, var(--jp-content-font-color1, white)));\n",
       "    --sklearn-color-background: var(--sg-background-color, var(--theme-background, var(--jp-layout-color0, #111)));\n",
       "    --sklearn-color-border-box: var(--sg-text-color, var(--theme-code-foreground, var(--jp-content-font-color1, white)));\n",
       "    --sklearn-color-icon: #878787;\n",
       "  }\n",
       "}\n",
       "\n",
       "#sk-container-id-3 {\n",
       "  color: var(--sklearn-color-text);\n",
       "}\n",
       "\n",
       "#sk-container-id-3 pre {\n",
       "  padding: 0;\n",
       "}\n",
       "\n",
       "#sk-container-id-3 input.sk-hidden--visually {\n",
       "  border: 0;\n",
       "  clip: rect(1px 1px 1px 1px);\n",
       "  clip: rect(1px, 1px, 1px, 1px);\n",
       "  height: 1px;\n",
       "  margin: -1px;\n",
       "  overflow: hidden;\n",
       "  padding: 0;\n",
       "  position: absolute;\n",
       "  width: 1px;\n",
       "}\n",
       "\n",
       "#sk-container-id-3 div.sk-dashed-wrapped {\n",
       "  border: 1px dashed var(--sklearn-color-line);\n",
       "  margin: 0 0.4em 0.5em 0.4em;\n",
       "  box-sizing: border-box;\n",
       "  padding-bottom: 0.4em;\n",
       "  background-color: var(--sklearn-color-background);\n",
       "}\n",
       "\n",
       "#sk-container-id-3 div.sk-container {\n",
       "  /* jupyter's `normalize.less` sets `[hidden] { display: none; }`\n",
       "     but bootstrap.min.css set `[hidden] { display: none !important; }`\n",
       "     so we also need the `!important` here to be able to override the\n",
       "     default hidden behavior on the sphinx rendered scikit-learn.org.\n",
       "     See: https://github.com/scikit-learn/scikit-learn/issues/21755 */\n",
       "  display: inline-block !important;\n",
       "  position: relative;\n",
       "}\n",
       "\n",
       "#sk-container-id-3 div.sk-text-repr-fallback {\n",
       "  display: none;\n",
       "}\n",
       "\n",
       "div.sk-parallel-item,\n",
       "div.sk-serial,\n",
       "div.sk-item {\n",
       "  /* draw centered vertical line to link estimators */\n",
       "  background-image: linear-gradient(var(--sklearn-color-text-on-default-background), var(--sklearn-color-text-on-default-background));\n",
       "  background-size: 2px 100%;\n",
       "  background-repeat: no-repeat;\n",
       "  background-position: center center;\n",
       "}\n",
       "\n",
       "/* Parallel-specific style estimator block */\n",
       "\n",
       "#sk-container-id-3 div.sk-parallel-item::after {\n",
       "  content: \"\";\n",
       "  width: 100%;\n",
       "  border-bottom: 2px solid var(--sklearn-color-text-on-default-background);\n",
       "  flex-grow: 1;\n",
       "}\n",
       "\n",
       "#sk-container-id-3 div.sk-parallel {\n",
       "  display: flex;\n",
       "  align-items: stretch;\n",
       "  justify-content: center;\n",
       "  background-color: var(--sklearn-color-background);\n",
       "  position: relative;\n",
       "}\n",
       "\n",
       "#sk-container-id-3 div.sk-parallel-item {\n",
       "  display: flex;\n",
       "  flex-direction: column;\n",
       "}\n",
       "\n",
       "#sk-container-id-3 div.sk-parallel-item:first-child::after {\n",
       "  align-self: flex-end;\n",
       "  width: 50%;\n",
       "}\n",
       "\n",
       "#sk-container-id-3 div.sk-parallel-item:last-child::after {\n",
       "  align-self: flex-start;\n",
       "  width: 50%;\n",
       "}\n",
       "\n",
       "#sk-container-id-3 div.sk-parallel-item:only-child::after {\n",
       "  width: 0;\n",
       "}\n",
       "\n",
       "/* Serial-specific style estimator block */\n",
       "\n",
       "#sk-container-id-3 div.sk-serial {\n",
       "  display: flex;\n",
       "  flex-direction: column;\n",
       "  align-items: center;\n",
       "  background-color: var(--sklearn-color-background);\n",
       "  padding-right: 1em;\n",
       "  padding-left: 1em;\n",
       "}\n",
       "\n",
       "\n",
       "/* Toggleable style: style used for estimator/Pipeline/ColumnTransformer box that is\n",
       "clickable and can be expanded/collapsed.\n",
       "- Pipeline and ColumnTransformer use this feature and define the default style\n",
       "- Estimators will overwrite some part of the style using the `sk-estimator` class\n",
       "*/\n",
       "\n",
       "/* Pipeline and ColumnTransformer style (default) */\n",
       "\n",
       "#sk-container-id-3 div.sk-toggleable {\n",
       "  /* Default theme specific background. It is overwritten whether we have a\n",
       "  specific estimator or a Pipeline/ColumnTransformer */\n",
       "  background-color: var(--sklearn-color-background);\n",
       "}\n",
       "\n",
       "/* Toggleable label */\n",
       "#sk-container-id-3 label.sk-toggleable__label {\n",
       "  cursor: pointer;\n",
       "  display: block;\n",
       "  width: 100%;\n",
       "  margin-bottom: 0;\n",
       "  padding: 0.5em;\n",
       "  box-sizing: border-box;\n",
       "  text-align: center;\n",
       "}\n",
       "\n",
       "#sk-container-id-3 label.sk-toggleable__label-arrow:before {\n",
       "  /* Arrow on the left of the label */\n",
       "  content: \"▸\";\n",
       "  float: left;\n",
       "  margin-right: 0.25em;\n",
       "  color: var(--sklearn-color-icon);\n",
       "}\n",
       "\n",
       "#sk-container-id-3 label.sk-toggleable__label-arrow:hover:before {\n",
       "  color: var(--sklearn-color-text);\n",
       "}\n",
       "\n",
       "/* Toggleable content - dropdown */\n",
       "\n",
       "#sk-container-id-3 div.sk-toggleable__content {\n",
       "  max-height: 0;\n",
       "  max-width: 0;\n",
       "  overflow: hidden;\n",
       "  text-align: left;\n",
       "  /* unfitted */\n",
       "  background-color: var(--sklearn-color-unfitted-level-0);\n",
       "}\n",
       "\n",
       "#sk-container-id-3 div.sk-toggleable__content.fitted {\n",
       "  /* fitted */\n",
       "  background-color: var(--sklearn-color-fitted-level-0);\n",
       "}\n",
       "\n",
       "#sk-container-id-3 div.sk-toggleable__content pre {\n",
       "  margin: 0.2em;\n",
       "  border-radius: 0.25em;\n",
       "  color: var(--sklearn-color-text);\n",
       "  /* unfitted */\n",
       "  background-color: var(--sklearn-color-unfitted-level-0);\n",
       "}\n",
       "\n",
       "#sk-container-id-3 div.sk-toggleable__content.fitted pre {\n",
       "  /* unfitted */\n",
       "  background-color: var(--sklearn-color-fitted-level-0);\n",
       "}\n",
       "\n",
       "#sk-container-id-3 input.sk-toggleable__control:checked~div.sk-toggleable__content {\n",
       "  /* Expand drop-down */\n",
       "  max-height: 200px;\n",
       "  max-width: 100%;\n",
       "  overflow: auto;\n",
       "}\n",
       "\n",
       "#sk-container-id-3 input.sk-toggleable__control:checked~label.sk-toggleable__label-arrow:before {\n",
       "  content: \"▾\";\n",
       "}\n",
       "\n",
       "/* Pipeline/ColumnTransformer-specific style */\n",
       "\n",
       "#sk-container-id-3 div.sk-label input.sk-toggleable__control:checked~label.sk-toggleable__label {\n",
       "  color: var(--sklearn-color-text);\n",
       "  background-color: var(--sklearn-color-unfitted-level-2);\n",
       "}\n",
       "\n",
       "#sk-container-id-3 div.sk-label.fitted input.sk-toggleable__control:checked~label.sk-toggleable__label {\n",
       "  background-color: var(--sklearn-color-fitted-level-2);\n",
       "}\n",
       "\n",
       "/* Estimator-specific style */\n",
       "\n",
       "/* Colorize estimator box */\n",
       "#sk-container-id-3 div.sk-estimator input.sk-toggleable__control:checked~label.sk-toggleable__label {\n",
       "  /* unfitted */\n",
       "  background-color: var(--sklearn-color-unfitted-level-2);\n",
       "}\n",
       "\n",
       "#sk-container-id-3 div.sk-estimator.fitted input.sk-toggleable__control:checked~label.sk-toggleable__label {\n",
       "  /* fitted */\n",
       "  background-color: var(--sklearn-color-fitted-level-2);\n",
       "}\n",
       "\n",
       "#sk-container-id-3 div.sk-label label.sk-toggleable__label,\n",
       "#sk-container-id-3 div.sk-label label {\n",
       "  /* The background is the default theme color */\n",
       "  color: var(--sklearn-color-text-on-default-background);\n",
       "}\n",
       "\n",
       "/* On hover, darken the color of the background */\n",
       "#sk-container-id-3 div.sk-label:hover label.sk-toggleable__label {\n",
       "  color: var(--sklearn-color-text);\n",
       "  background-color: var(--sklearn-color-unfitted-level-2);\n",
       "}\n",
       "\n",
       "/* Label box, darken color on hover, fitted */\n",
       "#sk-container-id-3 div.sk-label.fitted:hover label.sk-toggleable__label.fitted {\n",
       "  color: var(--sklearn-color-text);\n",
       "  background-color: var(--sklearn-color-fitted-level-2);\n",
       "}\n",
       "\n",
       "/* Estimator label */\n",
       "\n",
       "#sk-container-id-3 div.sk-label label {\n",
       "  font-family: monospace;\n",
       "  font-weight: bold;\n",
       "  display: inline-block;\n",
       "  line-height: 1.2em;\n",
       "}\n",
       "\n",
       "#sk-container-id-3 div.sk-label-container {\n",
       "  text-align: center;\n",
       "}\n",
       "\n",
       "/* Estimator-specific */\n",
       "#sk-container-id-3 div.sk-estimator {\n",
       "  font-family: monospace;\n",
       "  border: 1px dotted var(--sklearn-color-border-box);\n",
       "  border-radius: 0.25em;\n",
       "  box-sizing: border-box;\n",
       "  margin-bottom: 0.5em;\n",
       "  /* unfitted */\n",
       "  background-color: var(--sklearn-color-unfitted-level-0);\n",
       "}\n",
       "\n",
       "#sk-container-id-3 div.sk-estimator.fitted {\n",
       "  /* fitted */\n",
       "  background-color: var(--sklearn-color-fitted-level-0);\n",
       "}\n",
       "\n",
       "/* on hover */\n",
       "#sk-container-id-3 div.sk-estimator:hover {\n",
       "  /* unfitted */\n",
       "  background-color: var(--sklearn-color-unfitted-level-2);\n",
       "}\n",
       "\n",
       "#sk-container-id-3 div.sk-estimator.fitted:hover {\n",
       "  /* fitted */\n",
       "  background-color: var(--sklearn-color-fitted-level-2);\n",
       "}\n",
       "\n",
       "/* Specification for estimator info (e.g. \"i\" and \"?\") */\n",
       "\n",
       "/* Common style for \"i\" and \"?\" */\n",
       "\n",
       ".sk-estimator-doc-link,\n",
       "a:link.sk-estimator-doc-link,\n",
       "a:visited.sk-estimator-doc-link {\n",
       "  float: right;\n",
       "  font-size: smaller;\n",
       "  line-height: 1em;\n",
       "  font-family: monospace;\n",
       "  background-color: var(--sklearn-color-background);\n",
       "  border-radius: 1em;\n",
       "  height: 1em;\n",
       "  width: 1em;\n",
       "  text-decoration: none !important;\n",
       "  margin-left: 1ex;\n",
       "  /* unfitted */\n",
       "  border: var(--sklearn-color-unfitted-level-1) 1pt solid;\n",
       "  color: var(--sklearn-color-unfitted-level-1);\n",
       "}\n",
       "\n",
       ".sk-estimator-doc-link.fitted,\n",
       "a:link.sk-estimator-doc-link.fitted,\n",
       "a:visited.sk-estimator-doc-link.fitted {\n",
       "  /* fitted */\n",
       "  border: var(--sklearn-color-fitted-level-1) 1pt solid;\n",
       "  color: var(--sklearn-color-fitted-level-1);\n",
       "}\n",
       "\n",
       "/* On hover */\n",
       "div.sk-estimator:hover .sk-estimator-doc-link:hover,\n",
       ".sk-estimator-doc-link:hover,\n",
       "div.sk-label-container:hover .sk-estimator-doc-link:hover,\n",
       ".sk-estimator-doc-link:hover {\n",
       "  /* unfitted */\n",
       "  background-color: var(--sklearn-color-unfitted-level-3);\n",
       "  color: var(--sklearn-color-background);\n",
       "  text-decoration: none;\n",
       "}\n",
       "\n",
       "div.sk-estimator.fitted:hover .sk-estimator-doc-link.fitted:hover,\n",
       ".sk-estimator-doc-link.fitted:hover,\n",
       "div.sk-label-container:hover .sk-estimator-doc-link.fitted:hover,\n",
       ".sk-estimator-doc-link.fitted:hover {\n",
       "  /* fitted */\n",
       "  background-color: var(--sklearn-color-fitted-level-3);\n",
       "  color: var(--sklearn-color-background);\n",
       "  text-decoration: none;\n",
       "}\n",
       "\n",
       "/* Span, style for the box shown on hovering the info icon */\n",
       ".sk-estimator-doc-link span {\n",
       "  display: none;\n",
       "  z-index: 9999;\n",
       "  position: relative;\n",
       "  font-weight: normal;\n",
       "  right: .2ex;\n",
       "  padding: .5ex;\n",
       "  margin: .5ex;\n",
       "  width: min-content;\n",
       "  min-width: 20ex;\n",
       "  max-width: 50ex;\n",
       "  color: var(--sklearn-color-text);\n",
       "  box-shadow: 2pt 2pt 4pt #999;\n",
       "  /* unfitted */\n",
       "  background: var(--sklearn-color-unfitted-level-0);\n",
       "  border: .5pt solid var(--sklearn-color-unfitted-level-3);\n",
       "}\n",
       "\n",
       ".sk-estimator-doc-link.fitted span {\n",
       "  /* fitted */\n",
       "  background: var(--sklearn-color-fitted-level-0);\n",
       "  border: var(--sklearn-color-fitted-level-3);\n",
       "}\n",
       "\n",
       ".sk-estimator-doc-link:hover span {\n",
       "  display: block;\n",
       "}\n",
       "\n",
       "/* \"?\"-specific style due to the `<a>` HTML tag */\n",
       "\n",
       "#sk-container-id-3 a.estimator_doc_link {\n",
       "  float: right;\n",
       "  font-size: 1rem;\n",
       "  line-height: 1em;\n",
       "  font-family: monospace;\n",
       "  background-color: var(--sklearn-color-background);\n",
       "  border-radius: 1rem;\n",
       "  height: 1rem;\n",
       "  width: 1rem;\n",
       "  text-decoration: none;\n",
       "  /* unfitted */\n",
       "  color: var(--sklearn-color-unfitted-level-1);\n",
       "  border: var(--sklearn-color-unfitted-level-1) 1pt solid;\n",
       "}\n",
       "\n",
       "#sk-container-id-3 a.estimator_doc_link.fitted {\n",
       "  /* fitted */\n",
       "  border: var(--sklearn-color-fitted-level-1) 1pt solid;\n",
       "  color: var(--sklearn-color-fitted-level-1);\n",
       "}\n",
       "\n",
       "/* On hover */\n",
       "#sk-container-id-3 a.estimator_doc_link:hover {\n",
       "  /* unfitted */\n",
       "  background-color: var(--sklearn-color-unfitted-level-3);\n",
       "  color: var(--sklearn-color-background);\n",
       "  text-decoration: none;\n",
       "}\n",
       "\n",
       "#sk-container-id-3 a.estimator_doc_link.fitted:hover {\n",
       "  /* fitted */\n",
       "  background-color: var(--sklearn-color-fitted-level-3);\n",
       "}\n",
       "</style><div id=\"sk-container-id-3\" class=\"sk-top-container\"><div class=\"sk-text-repr-fallback\"><pre>LogisticRegression(solver=&#x27;liblinear&#x27;)</pre><b>In a Jupyter environment, please rerun this cell to show the HTML representation or trust the notebook. <br />On GitHub, the HTML representation is unable to render, please try loading this page with nbviewer.org.</b></div><div class=\"sk-container\" hidden><div class=\"sk-item\"><div class=\"sk-estimator fitted sk-toggleable\"><input class=\"sk-toggleable__control sk-hidden--visually\" id=\"sk-estimator-id-3\" type=\"checkbox\" checked><label for=\"sk-estimator-id-3\" class=\"sk-toggleable__label fitted sk-toggleable__label-arrow fitted\">&nbsp;&nbsp;LogisticRegression<a class=\"sk-estimator-doc-link fitted\" rel=\"noreferrer\" target=\"_blank\" href=\"https://scikit-learn.org/1.5/modules/generated/sklearn.linear_model.LogisticRegression.html\">?<span>Documentation for LogisticRegression</span></a><span class=\"sk-estimator-doc-link fitted\">i<span>Fitted</span></span></label><div class=\"sk-toggleable__content fitted\"><pre>LogisticRegression(solver=&#x27;liblinear&#x27;)</pre></div> </div></div></div></div>"
      ],
      "text/plain": [
       "LogisticRegression(solver='liblinear')"
      ]
     },
     "execution_count": 105,
     "metadata": {},
     "output_type": "execute_result"
    }
   ],
   "source": [
    "\n",
    "from sklearn.linear_model import LogisticRegression\n",
    "from sklearn.model_selection import train_test_split\n",
    "from sklearn.metrics import confusion_matrix\n",
    "from sklearn.metrics import accuracy_score, recall_score\n",
    "from sklearn.metrics import roc_curve\n",
    "from sklearn.metrics import roc_auc_score\n",
    "from sklearn.metrics import RocCurveDisplay\n",
    "\n",
    "# Regresión logística con L1 (LASSO)\n",
    "modelo_l1 = LogisticRegression(penalty='l1', solver='liblinear', C=1.0)\n",
    "modelo_l1.fit(xtrain2024, ytrain2024)\n",
    "\n",
    "# Regresión logística con L2 (Ridge)\n",
    "modelo_l2 = LogisticRegression(penalty='l2', solver='liblinear', C=1.0)\n",
    "modelo_l2.fit(xtrain2024, ytrain2024)"
   ]
  },
  {
   "cell_type": "code",
   "execution_count": 106,
   "metadata": {},
   "outputs": [
    {
     "name": "stdout",
     "output_type": "stream",
     "text": [
      "Evaluación del modelo Logístico 2024 LASSO:\n",
      "Accuracy: 0.96\n",
      "Matriz de Confusión:\n",
      "[[1955    0]\n",
      " [  91    0]]\n"
     ]
    },
    {
     "data": {
      "image/png": "[encoded data removed]",
      "text/plain": [
       "<Figure size 640x480 with 1 Axes>"
      ]
     },
     "metadata": {},
     "output_type": "display_data"
    }
   ],
   "source": [
    "# Evaluación del modelo Logístico 2024 lasso\n",
    "y_pred_log2024 = modelo_l1.predict(xtest2024)\n",
    "y_pred_prob2024 = modelo_l1.predict_proba(xtest2024)[:, 1]\n",
    "accuracy_log2024 = accuracy_score(ytest2024, y_pred_log2024)\n",
    "conf_matrix_log2024 = confusion_matrix(ytest2024, y_pred_log2024)\n",
    "fpr_log2024, tpr_log2024, _ = roc_curve(ytest2024, y_pred_prob2024)\n",
    "roc_auc_log2024 = roc_auc_score(ytest2024, y_pred_prob2024)\n",
    "\n",
    "print(\"Evaluación del modelo Logístico 2024 LASSO:\")\n",
    "print(f'Accuracy: {accuracy_log2024:.2f}')\n",
    "print('Matriz de Confusión:')\n",
    "print(conf_matrix_log2024)\n",
    "\n",
    "display = RocCurveDisplay(fpr=fpr_log2024, tpr=tpr_log2024, roc_auc=roc_auc_log2024, estimator_name='Logístico 2024 LASSO')\n",
    "display.plot()\n",
    "plt.title('Logístico 2024 LASSO')\n",
    "plt.plot([0, 1], [0, 1], color='red', linestyle='--', linewidth=.5)\n",
    "plt.show()"
   ]
  },
  {
   "cell_type": "code",
   "execution_count": 107,
   "metadata": {},
   "outputs": [
    {
     "name": "stdout",
     "output_type": "stream",
     "text": [
      "Evaluación del modelo Logístico 2024 Ridge:\n",
      "Accuracy: 0.96\n",
      "Matriz de Confusión:\n",
      "[[1955    0]\n",
      " [  91    0]]\n"
     ]
    },
    {
     "data": {
      "image/png": "[encoded data removed]",
      "text/plain": [
       "<Figure size 640x480 with 1 Axes>"
      ]
     },
     "metadata": {},
     "output_type": "display_data"
    }
   ],
   "source": [
    "# Evaluación del modelo Logístico 2024 lasso\n",
    "y_pred_log2024 = modelo_l2.predict(xtest2024)\n",
    "y_pred_prob2024 = modelo_l2.predict_proba(xtest2024)[:, 1]\n",
    "accuracy_log2024 = accuracy_score(ytest2024, y_pred_log2024)\n",
    "conf_matrix_log2024 = confusion_matrix(ytest2024, y_pred_log2024)\n",
    "fpr_log2024, tpr_log2024, _ = roc_curve(ytest2024, y_pred_prob2024)\n",
    "roc_auc_log2024 = roc_auc_score(ytest2024, y_pred_prob2024)\n",
    "\n",
    "print(\"Evaluación del modelo Logístico 2024 Ridge:\")\n",
    "print(f'Accuracy: {accuracy_log2024:.2f}')\n",
    "print('Matriz de Confusión:')\n",
    "print(conf_matrix_log2024)\n",
    "\n",
    "display = RocCurveDisplay(fpr=fpr_log2024, tpr=tpr_log2024, roc_auc=roc_auc_log2024, estimator_name='Logístico 2024 Ridge')\n",
    "display.plot()\n",
    "plt.title('Logístico 2024 Ridge')\n",
    "plt.plot([0, 1], [0, 1], color='red', linestyle='--', linewidth=.5)\n",
    "plt.show()"
   ]
  },
  {
   "cell_type": "code",
   "execution_count": 108,
   "metadata": {},
   "outputs": [],
   "source": [
    "from sklearn.preprocessing import StandardScaler\n",
    "sc = StandardScaler()\n",
    "xtrain2004=pd.DataFrame(sc.fit_transform(xtrain2004), index=xtrain2004.index, columns=xtrain2004.columns)\n",
    "xtest2004=pd.DataFrame(sc.fit_transform(xtest2004), index=xtest2004.index, columns=xtest2004.columns)"
   ]
  },
  {
   "cell_type": "code",
   "execution_count": 109,
   "metadata": {},
   "outputs": [
    {
     "data": {
      "text/html": [
       "<style>#sk-container-id-4 {\n",
       "  /* Definition of color scheme common for light and dark mode */\n",
       "  --sklearn-color-text: black;\n",
       "  --sklearn-color-line: gray;\n",
       "  /* Definition of color scheme for unfitted estimators */\n",
       "  --sklearn-color-unfitted-level-0: #fff5e6;\n",
       "  --sklearn-color-unfitted-level-1: #f6e4d2;\n",
       "  --sklearn-color-unfitted-level-2: #ffe0b3;\n",
       "  --sklearn-color-unfitted-level-3: chocolate;\n",
       "  /* Definition of color scheme for fitted estimators */\n",
       "  --sklearn-color-fitted-level-0: #f0f8ff;\n",
       "  --sklearn-color-fitted-level-1: #d4ebff;\n",
       "  --sklearn-color-fitted-level-2: #b3dbfd;\n",
       "  --sklearn-color-fitted-level-3: cornflowerblue;\n",
       "\n",
       "  /* Specific color for light theme */\n",
       "  --sklearn-color-text-on-default-background: var(--sg-text-color, var(--theme-code-foreground, var(--jp-content-font-color1, black)));\n",
       "  --sklearn-color-background: var(--sg-background-color, var(--theme-background, var(--jp-layout-color0, white)));\n",
       "  --sklearn-color-border-box: var(--sg-text-color, var(--theme-code-foreground, var(--jp-content-font-color1, black)));\n",
       "  --sklearn-color-icon: #696969;\n",
       "\n",
       "  @media (prefers-color-scheme: dark) {\n",
       "    /* Redefinition of color scheme for dark theme */\n",
       "    --sklearn-color-text-on-default-background: var(--sg-text-color, var(--theme-code-foreground, var(--jp-content-font-color1, white)));\n",
       "    --sklearn-color-background: var(--sg-background-color, var(--theme-background, var(--jp-layout-color0, #111)));\n",
       "    --sklearn-color-border-box: var(--sg-text-color, var(--theme-code-foreground, var(--jp-content-font-color1, white)));\n",
       "    --sklearn-color-icon: #878787;\n",
       "  }\n",
       "}\n",
       "\n",
       "#sk-container-id-4 {\n",
       "  color: var(--sklearn-color-text);\n",
       "}\n",
       "\n",
       "#sk-container-id-4 pre {\n",
       "  padding: 0;\n",
       "}\n",
       "\n",
       "#sk-container-id-4 input.sk-hidden--visually {\n",
       "  border: 0;\n",
       "  clip: rect(1px 1px 1px 1px);\n",
       "  clip: rect(1px, 1px, 1px, 1px);\n",
       "  height: 1px;\n",
       "  margin: -1px;\n",
       "  overflow: hidden;\n",
       "  padding: 0;\n",
       "  position: absolute;\n",
       "  width: 1px;\n",
       "}\n",
       "\n",
       "#sk-container-id-4 div.sk-dashed-wrapped {\n",
       "  border: 1px dashed var(--sklearn-color-line);\n",
       "  margin: 0 0.4em 0.5em 0.4em;\n",
       "  box-sizing: border-box;\n",
       "  padding-bottom: 0.4em;\n",
       "  background-color: var(--sklearn-color-background);\n",
       "}\n",
       "\n",
       "#sk-container-id-4 div.sk-container {\n",
       "  /* jupyter's `normalize.less` sets `[hidden] { display: none; }`\n",
       "     but bootstrap.min.css set `[hidden] { display: none !important; }`\n",
       "     so we also need the `!important` here to be able to override the\n",
       "     default hidden behavior on the sphinx rendered scikit-learn.org.\n",
       "     See: https://github.com/scikit-learn/scikit-learn/issues/21755 */\n",
       "  display: inline-block !important;\n",
       "  position: relative;\n",
       "}\n",
       "\n",
       "#sk-container-id-4 div.sk-text-repr-fallback {\n",
       "  display: none;\n",
       "}\n",
       "\n",
       "div.sk-parallel-item,\n",
       "div.sk-serial,\n",
       "div.sk-item {\n",
       "  /* draw centered vertical line to link estimators */\n",
       "  background-image: linear-gradient(var(--sklearn-color-text-on-default-background), var(--sklearn-color-text-on-default-background));\n",
       "  background-size: 2px 100%;\n",
       "  background-repeat: no-repeat;\n",
       "  background-position: center center;\n",
       "}\n",
       "\n",
       "/* Parallel-specific style estimator block */\n",
       "\n",
       "#sk-container-id-4 div.sk-parallel-item::after {\n",
       "  content: \"\";\n",
       "  width: 100%;\n",
       "  border-bottom: 2px solid var(--sklearn-color-text-on-default-background);\n",
       "  flex-grow: 1;\n",
       "}\n",
       "\n",
       "#sk-container-id-4 div.sk-parallel {\n",
       "  display: flex;\n",
       "  align-items: stretch;\n",
       "  justify-content: center;\n",
       "  background-color: var(--sklearn-color-background);\n",
       "  position: relative;\n",
       "}\n",
       "\n",
       "#sk-container-id-4 div.sk-parallel-item {\n",
       "  display: flex;\n",
       "  flex-direction: column;\n",
       "}\n",
       "\n",
       "#sk-container-id-4 div.sk-parallel-item:first-child::after {\n",
       "  align-self: flex-end;\n",
       "  width: 50%;\n",
       "}\n",
       "\n",
       "#sk-container-id-4 div.sk-parallel-item:last-child::after {\n",
       "  align-self: flex-start;\n",
       "  width: 50%;\n",
       "}\n",
       "\n",
       "#sk-container-id-4 div.sk-parallel-item:only-child::after {\n",
       "  width: 0;\n",
       "}\n",
       "\n",
       "/* Serial-specific style estimator block */\n",
       "\n",
       "#sk-container-id-4 div.sk-serial {\n",
       "  display: flex;\n",
       "  flex-direction: column;\n",
       "  align-items: center;\n",
       "  background-color: var(--sklearn-color-background);\n",
       "  padding-right: 1em;\n",
       "  padding-left: 1em;\n",
       "}\n",
       "\n",
       "\n",
       "/* Toggleable style: style used for estimator/Pipeline/ColumnTransformer box that is\n",
       "clickable and can be expanded/collapsed.\n",
       "- Pipeline and ColumnTransformer use this feature and define the default style\n",
       "- Estimators will overwrite some part of the style using the `sk-estimator` class\n",
       "*/\n",
       "\n",
       "/* Pipeline and ColumnTransformer style (default) */\n",
       "\n",
       "#sk-container-id-4 div.sk-toggleable {\n",
       "  /* Default theme specific background. It is overwritten whether we have a\n",
       "  specific estimator or a Pipeline/ColumnTransformer */\n",
       "  background-color: var(--sklearn-color-background);\n",
       "}\n",
       "\n",
       "/* Toggleable label */\n",
       "#sk-container-id-4 label.sk-toggleable__label {\n",
       "  cursor: pointer;\n",
       "  display: block;\n",
       "  width: 100%;\n",
       "  margin-bottom: 0;\n",
       "  padding: 0.5em;\n",
       "  box-sizing: border-box;\n",
       "  text-align: center;\n",
       "}\n",
       "\n",
       "#sk-container-id-4 label.sk-toggleable__label-arrow:before {\n",
       "  /* Arrow on the left of the label */\n",
       "  content: \"▸\";\n",
       "  float: left;\n",
       "  margin-right: 0.25em;\n",
       "  color: var(--sklearn-color-icon);\n",
       "}\n",
       "\n",
       "#sk-container-id-4 label.sk-toggleable__label-arrow:hover:before {\n",
       "  color: var(--sklearn-color-text);\n",
       "}\n",
       "\n",
       "/* Toggleable content - dropdown */\n",
       "\n",
       "#sk-container-id-4 div.sk-toggleable__content {\n",
       "  max-height: 0;\n",
       "  max-width: 0;\n",
       "  overflow: hidden;\n",
       "  text-align: left;\n",
       "  /* unfitted */\n",
       "  background-color: var(--sklearn-color-unfitted-level-0);\n",
       "}\n",
       "\n",
       "#sk-container-id-4 div.sk-toggleable__content.fitted {\n",
       "  /* fitted */\n",
       "  background-color: var(--sklearn-color-fitted-level-0);\n",
       "}\n",
       "\n",
       "#sk-container-id-4 div.sk-toggleable__content pre {\n",
       "  margin: 0.2em;\n",
       "  border-radius: 0.25em;\n",
       "  color: var(--sklearn-color-text);\n",
       "  /* unfitted */\n",
       "  background-color: var(--sklearn-color-unfitted-level-0);\n",
       "}\n",
       "\n",
       "#sk-container-id-4 div.sk-toggleable__content.fitted pre {\n",
       "  /* unfitted */\n",
       "  background-color: var(--sklearn-color-fitted-level-0);\n",
       "}\n",
       "\n",
       "#sk-container-id-4 input.sk-toggleable__control:checked~div.sk-toggleable__content {\n",
       "  /* Expand drop-down */\n",
       "  max-height: 200px;\n",
       "  max-width: 100%;\n",
       "  overflow: auto;\n",
       "}\n",
       "\n",
       "#sk-container-id-4 input.sk-toggleable__control:checked~label.sk-toggleable__label-arrow:before {\n",
       "  content: \"▾\";\n",
       "}\n",
       "\n",
       "/* Pipeline/ColumnTransformer-specific style */\n",
       "\n",
       "#sk-container-id-4 div.sk-label input.sk-toggleable__control:checked~label.sk-toggleable__label {\n",
       "  color: var(--sklearn-color-text);\n",
       "  background-color: var(--sklearn-color-unfitted-level-2);\n",
       "}\n",
       "\n",
       "#sk-container-id-4 div.sk-label.fitted input.sk-toggleable__control:checked~label.sk-toggleable__label {\n",
       "  background-color: var(--sklearn-color-fitted-level-2);\n",
       "}\n",
       "\n",
       "/* Estimator-specific style */\n",
       "\n",
       "/* Colorize estimator box */\n",
       "#sk-container-id-4 div.sk-estimator input.sk-toggleable__control:checked~label.sk-toggleable__label {\n",
       "  /* unfitted */\n",
       "  background-color: var(--sklearn-color-unfitted-level-2);\n",
       "}\n",
       "\n",
       "#sk-container-id-4 div.sk-estimator.fitted input.sk-toggleable__control:checked~label.sk-toggleable__label {\n",
       "  /* fitted */\n",
       "  background-color: var(--sklearn-color-fitted-level-2);\n",
       "}\n",
       "\n",
       "#sk-container-id-4 div.sk-label label.sk-toggleable__label,\n",
       "#sk-container-id-4 div.sk-label label {\n",
       "  /* The background is the default theme color */\n",
       "  color: var(--sklearn-color-text-on-default-background);\n",
       "}\n",
       "\n",
       "/* On hover, darken the color of the background */\n",
       "#sk-container-id-4 div.sk-label:hover label.sk-toggleable__label {\n",
       "  color: var(--sklearn-color-text);\n",
       "  background-color: var(--sklearn-color-unfitted-level-2);\n",
       "}\n",
       "\n",
       "/* Label box, darken color on hover, fitted */\n",
       "#sk-container-id-4 div.sk-label.fitted:hover label.sk-toggleable__label.fitted {\n",
       "  color: var(--sklearn-color-text);\n",
       "  background-color: var(--sklearn-color-fitted-level-2);\n",
       "}\n",
       "\n",
       "/* Estimator label */\n",
       "\n",
       "#sk-container-id-4 div.sk-label label {\n",
       "  font-family: monospace;\n",
       "  font-weight: bold;\n",
       "  display: inline-block;\n",
       "  line-height: 1.2em;\n",
       "}\n",
       "\n",
       "#sk-container-id-4 div.sk-label-container {\n",
       "  text-align: center;\n",
       "}\n",
       "\n",
       "/* Estimator-specific */\n",
       "#sk-container-id-4 div.sk-estimator {\n",
       "  font-family: monospace;\n",
       "  border: 1px dotted var(--sklearn-color-border-box);\n",
       "  border-radius: 0.25em;\n",
       "  box-sizing: border-box;\n",
       "  margin-bottom: 0.5em;\n",
       "  /* unfitted */\n",
       "  background-color: var(--sklearn-color-unfitted-level-0);\n",
       "}\n",
       "\n",
       "#sk-container-id-4 div.sk-estimator.fitted {\n",
       "  /* fitted */\n",
       "  background-color: var(--sklearn-color-fitted-level-0);\n",
       "}\n",
       "\n",
       "/* on hover */\n",
       "#sk-container-id-4 div.sk-estimator:hover {\n",
       "  /* unfitted */\n",
       "  background-color: var(--sklearn-color-unfitted-level-2);\n",
       "}\n",
       "\n",
       "#sk-container-id-4 div.sk-estimator.fitted:hover {\n",
       "  /* fitted */\n",
       "  background-color: var(--sklearn-color-fitted-level-2);\n",
       "}\n",
       "\n",
       "/* Specification for estimator info (e.g. \"i\" and \"?\") */\n",
       "\n",
       "/* Common style for \"i\" and \"?\" */\n",
       "\n",
       ".sk-estimator-doc-link,\n",
       "a:link.sk-estimator-doc-link,\n",
       "a:visited.sk-estimator-doc-link {\n",
       "  float: right;\n",
       "  font-size: smaller;\n",
       "  line-height: 1em;\n",
       "  font-family: monospace;\n",
       "  background-color: var(--sklearn-color-background);\n",
       "  border-radius: 1em;\n",
       "  height: 1em;\n",
       "  width: 1em;\n",
       "  text-decoration: none !important;\n",
       "  margin-left: 1ex;\n",
       "  /* unfitted */\n",
       "  border: var(--sklearn-color-unfitted-level-1) 1pt solid;\n",
       "  color: var(--sklearn-color-unfitted-level-1);\n",
       "}\n",
       "\n",
       ".sk-estimator-doc-link.fitted,\n",
       "a:link.sk-estimator-doc-link.fitted,\n",
       "a:visited.sk-estimator-doc-link.fitted {\n",
       "  /* fitted */\n",
       "  border: var(--sklearn-color-fitted-level-1) 1pt solid;\n",
       "  color: var(--sklearn-color-fitted-level-1);\n",
       "}\n",
       "\n",
       "/* On hover */\n",
       "div.sk-estimator:hover .sk-estimator-doc-link:hover,\n",
       ".sk-estimator-doc-link:hover,\n",
       "div.sk-label-container:hover .sk-estimator-doc-link:hover,\n",
       ".sk-estimator-doc-link:hover {\n",
       "  /* unfitted */\n",
       "  background-color: var(--sklearn-color-unfitted-level-3);\n",
       "  color: var(--sklearn-color-background);\n",
       "  text-decoration: none;\n",
       "}\n",
       "\n",
       "div.sk-estimator.fitted:hover .sk-estimator-doc-link.fitted:hover,\n",
       ".sk-estimator-doc-link.fitted:hover,\n",
       "div.sk-label-container:hover .sk-estimator-doc-link.fitted:hover,\n",
       ".sk-estimator-doc-link.fitted:hover {\n",
       "  /* fitted */\n",
       "  background-color: var(--sklearn-color-fitted-level-3);\n",
       "  color: var(--sklearn-color-background);\n",
       "  text-decoration: none;\n",
       "}\n",
       "\n",
       "/* Span, style for the box shown on hovering the info icon */\n",
       ".sk-estimator-doc-link span {\n",
       "  display: none;\n",
       "  z-index: 9999;\n",
       "  position: relative;\n",
       "  font-weight: normal;\n",
       "  right: .2ex;\n",
       "  padding: .5ex;\n",
       "  margin: .5ex;\n",
       "  width: min-content;\n",
       "  min-width: 20ex;\n",
       "  max-width: 50ex;\n",
       "  color: var(--sklearn-color-text);\n",
       "  box-shadow: 2pt 2pt 4pt #999;\n",
       "  /* unfitted */\n",
       "  background: var(--sklearn-color-unfitted-level-0);\n",
       "  border: .5pt solid var(--sklearn-color-unfitted-level-3);\n",
       "}\n",
       "\n",
       ".sk-estimator-doc-link.fitted span {\n",
       "  /* fitted */\n",
       "  background: var(--sklearn-color-fitted-level-0);\n",
       "  border: var(--sklearn-color-fitted-level-3);\n",
       "}\n",
       "\n",
       ".sk-estimator-doc-link:hover span {\n",
       "  display: block;\n",
       "}\n",
       "\n",
       "/* \"?\"-specific style due to the `<a>` HTML tag */\n",
       "\n",
       "#sk-container-id-4 a.estimator_doc_link {\n",
       "  float: right;\n",
       "  font-size: 1rem;\n",
       "  line-height: 1em;\n",
       "  font-family: monospace;\n",
       "  background-color: var(--sklearn-color-background);\n",
       "  border-radius: 1rem;\n",
       "  height: 1rem;\n",
       "  width: 1rem;\n",
       "  text-decoration: none;\n",
       "  /* unfitted */\n",
       "  color: var(--sklearn-color-unfitted-level-1);\n",
       "  border: var(--sklearn-color-unfitted-level-1) 1pt solid;\n",
       "}\n",
       "\n",
       "#sk-container-id-4 a.estimator_doc_link.fitted {\n",
       "  /* fitted */\n",
       "  border: var(--sklearn-color-fitted-level-1) 1pt solid;\n",
       "  color: var(--sklearn-color-fitted-level-1);\n",
       "}\n",
       "\n",
       "/* On hover */\n",
       "#sk-container-id-4 a.estimator_doc_link:hover {\n",
       "  /* unfitted */\n",
       "  background-color: var(--sklearn-color-unfitted-level-3);\n",
       "  color: var(--sklearn-color-background);\n",
       "  text-decoration: none;\n",
       "}\n",
       "\n",
       "#sk-container-id-4 a.estimator_doc_link.fitted:hover {\n",
       "  /* fitted */\n",
       "  background-color: var(--sklearn-color-fitted-level-3);\n",
       "}\n",
       "</style><div id=\"sk-container-id-4\" class=\"sk-top-container\"><div class=\"sk-text-repr-fallback\"><pre>LogisticRegression(solver=&#x27;liblinear&#x27;)</pre><b>In a Jupyter environment, please rerun this cell to show the HTML representation or trust the notebook. <br />On GitHub, the HTML representation is unable to render, please try loading this page with nbviewer.org.</b></div><div class=\"sk-container\" hidden><div class=\"sk-item\"><div class=\"sk-estimator fitted sk-toggleable\"><input class=\"sk-toggleable__control sk-hidden--visually\" id=\"sk-estimator-id-4\" type=\"checkbox\" checked><label for=\"sk-estimator-id-4\" class=\"sk-toggleable__label fitted sk-toggleable__label-arrow fitted\">&nbsp;&nbsp;LogisticRegression<a class=\"sk-estimator-doc-link fitted\" rel=\"noreferrer\" target=\"_blank\" href=\"https://scikit-learn.org/1.5/modules/generated/sklearn.linear_model.LogisticRegression.html\">?<span>Documentation for LogisticRegression</span></a><span class=\"sk-estimator-doc-link fitted\">i<span>Fitted</span></span></label><div class=\"sk-toggleable__content fitted\"><pre>LogisticRegression(solver=&#x27;liblinear&#x27;)</pre></div> </div></div></div></div>"
      ],
      "text/plain": [
       "LogisticRegression(solver='liblinear')"
      ]
     },
     "execution_count": 109,
     "metadata": {},
     "output_type": "execute_result"
    }
   ],
   "source": [
    "# Regresión logística con L1 (LASSO)\n",
    "modelo_l1_04 = LogisticRegression(penalty='l1', solver='liblinear', C=1.0)\n",
    "modelo_l1_04.fit(xtrain2004, ytrain2004)\n",
    "\n",
    "# Regresión logística con L2 (Ridge)\n",
    "modelo_l2_04 = LogisticRegression(penalty='l2', solver='liblinear', C=1.0)\n",
    "modelo_l2_04.fit(xtrain2004, ytrain2004)"
   ]
  },
  {
   "cell_type": "code",
   "execution_count": 110,
   "metadata": {},
   "outputs": [
    {
     "name": "stdout",
     "output_type": "stream",
     "text": [
      "Evaluación del modelo Logístico 2004 LASSO:\n",
      "Accuracy: 0.96\n",
      "Matriz de Confusión:\n",
      "[[1955    0]\n",
      " [  91    0]]\n"
     ]
    },
    {
     "data": {
      "image/png": "[encoded data removed]",
      "text/plain": [
       "<Figure size 640x480 with 1 Axes>"
      ]
     },
     "metadata": {},
     "output_type": "display_data"
    }
   ],
   "source": [
    "# Evaluación del modelo Logístico 2004 lasso\n",
    "y_pred_log2004 = modelo_l1_04.predict(xtest2004)\n",
    "y_pred_prob2004 = modelo_l1_04.predict_proba(xtest2004)[:, 1]\n",
    "accuracy_log2004 = accuracy_score(ytest2004, y_pred_log2004)\n",
    "conf_matrix_log2004 = confusion_matrix(ytest2004, y_pred_log2004)\n",
    "fpr_log2004, tpr_log2004, _ = roc_curve(ytest2004, y_pred_prob2004)\n",
    "roc_auc_log2004 = roc_auc_score(ytest2004, y_pred_prob2004)\n",
    "\n",
    "print(\"Evaluación del modelo Logístico 2004 LASSO:\")\n",
    "print(f'Accuracy: {accuracy_log2024:.2f}')\n",
    "print('Matriz de Confusión:')\n",
    "print(conf_matrix_log2024)\n",
    "\n",
    "display = RocCurveDisplay(fpr=fpr_log2004, tpr=tpr_log2004, roc_auc=roc_auc_log2004, estimator_name='Logístico 2004 LASSO')\n",
    "display.plot()\n",
    "plt.title('Logístico 2004 LASSO')\n",
    "plt.plot([0, 1], [0, 1], color='red', linestyle='--', linewidth=.5)\n",
    "plt.show()"
   ]
  },
  {
   "cell_type": "code",
   "execution_count": 111,
   "metadata": {},
   "outputs": [
    {
     "name": "stdout",
     "output_type": "stream",
     "text": [
      "Evaluación del modelo Logístico 2004 Ridge:\n",
      "Accuracy: 0.96\n",
      "Matriz de Confusión:\n",
      "[[1955    0]\n",
      " [  91    0]]\n"
     ]
    },
    {
     "data": {
      "image/png": "[encoded data removed]",
      "text/plain": [
       "<Figure size 640x480 with 1 Axes>"
      ]
     },
     "metadata": {},
     "output_type": "display_data"
    }
   ],
   "source": [
    "# Evaluación del modelo Logístico 2004 Ridge\n",
    "y_pred_log2004 = modelo_l2_04.predict(xtest2004)\n",
    "y_pred_prob2004 = modelo_l2_04.predict_proba(xtest2004)[:, 1]\n",
    "accuracy_log2004 = accuracy_score(ytest2004, y_pred_log2004)\n",
    "conf_matrix_log2004 = confusion_matrix(ytest2004, y_pred_log2004)\n",
    "fpr_log2004, tpr_log2004, _ = roc_curve(ytest2004, y_pred_prob2004)\n",
    "roc_auc_log2004 = roc_auc_score(ytest2004, y_pred_prob2004)\n",
    "\n",
    "print(\"Evaluación del modelo Logístico 2004 Ridge:\")\n",
    "print(f'Accuracy: {accuracy_log2024:.2f}')\n",
    "print('Matriz de Confusión:')\n",
    "print(conf_matrix_log2024)\n",
    "\n",
    "display = RocCurveDisplay(fpr=fpr_log2004, tpr=tpr_log2004, roc_auc=roc_auc_log2004, estimator_name='Logístico 2004 Ridge')\n",
    "display.plot()\n",
    "plt.title('Logístico 2004 Ridge')\n",
    "plt.plot([0, 1], [0, 1], color='red', linestyle='--', linewidth=.5)\n",
    "plt.show()"
   ]
  },
  {
   "cell_type": "markdown",
   "metadata": {},
   "source": [
    "5) Realicen un barrido en = 10n λ con n ∈ {−5, −4, −3 ..., +4, +5} y utilicen\n",
    "10-fold CV para elegir el λ óptimo en regresión logística con Ridge y con\n",
    "LASSO. ¿Qué λ seleccionó en cada caso? Usando la librería de seaborn,\n",
    "generen box plot mostrando la distribución del error de predicción para\n",
    "cada λ. Cada box debe corresponder a un valor de λ y contener como\n",
    "observaciones el error medio de validación (MSE) para cada partición.\n",
    "Además, para la regularización LASSO, generen un line plot del\n",
    "promedio de la proporción de variables ignoradas por el modelo en\n",
    "función de λ (como vieron en el tutorial 10), es decir la proporción de\n",
    "variables para las cuales el coeficiente asociado es cero"
   ]
  },
  {
   "cell_type": "code",
   "execution_count": 112,
   "metadata": {},
   "outputs": [],
   "source": [
    "from sklearn.linear_model import LogisticRegressionCV\n",
    "from sklearn.model_selection import StratifiedKFold\n",
    "from sklearn.metrics import mean_squared_error"
   ]
  },
  {
   "cell_type": "code",
   "execution_count": 113,
   "metadata": {},
   "outputs": [
    {
     "name": "stdout",
     "output_type": "stream",
     "text": [
      "Valores de λ: [1.e-05 1.e-04 1.e-03 1.e-02 1.e-01 1.e+00 1.e+01 1.e+02 1.e+03 1.e+04\n",
      " 1.e+05]\n"
     ]
    }
   ],
   "source": [
    "# Definir los valores de n\n",
    "n_values = np.arange(-5, 6)  # Valores de n: -5, -4, ..., +5\n",
    "\n",
    "# Generar los valores de λ como 10^n\n",
    "lambdas = 10.0 ** n_values\n",
    "print(\"Valores de λ:\", lambdas)\n",
    "\n",
    "\n"
   ]
  },
  {
   "cell_type": "code",
   "execution_count": 114,
   "metadata": {},
   "outputs": [],
   "source": [
    "# Invertir los valores de λ para obtener C\n",
    "Cs = 1 / lambdas\n",
    "\n",
    "# Modelos para Ridge (L2) y Lasso (L1)\n",
    "model_ridge = LogisticRegressionCV(penalty='l2', solver='liblinear', Cs=Cs, cv=10, scoring='accuracy', max_iter=1000)\n",
    "model_lasso = LogisticRegressionCV(penalty='l1', solver='liblinear', Cs=Cs, cv=10, scoring='accuracy', max_iter=1000)"
   ]
  },
  {
   "cell_type": "code",
   "execution_count": 116,
   "metadata": {},
   "outputs": [],
   "source": [
    "modelol1_2024_CV=model_lasso.fit(xtrain2024,ytrain2024)\n",
    "modelol1_2004_CV=model_lasso.fit(xtrain2004,ytrain2004)\n",
    "\n",
    "modelol2_2024_CV=model_ridge.fit(xtrain2024,ytrain2024)\n",
    "modelol2_2004_CV=model_ridge.fit(xtrain2004,ytrain2004)"
   ]
  },
  {
   "cell_type": "code",
   "execution_count": 117,
   "metadata": {},
   "outputs": [
    {
     "name": "stdout",
     "output_type": "stream",
     "text": [
      "Mejor lambda para Ridge 2024: 0.01\n",
      "Mejor lambda para Lasso 2024: 0.1\n"
     ]
    }
   ],
   "source": [
    "\n",
    "# Mejor lambda para cada modelo\n",
    "bestlambdaridge2024 = modelol2_2024_CV.C_[0]\n",
    "bestlambdalasso2024 = modelol1_2024_CV.C_[0]\n",
    "\n",
    "print(f\"Mejor lambda para Ridge 2024: {bestlambdaridge2024}\")\n",
    "print(f\"Mejor lambda para Lasso 2024: {bestlambdalasso2024}\")\n"
   ]
  },
  {
   "cell_type": "code",
   "execution_count": 118,
   "metadata": {},
   "outputs": [
    {
     "name": "stdout",
     "output_type": "stream",
     "text": [
      "Mejor lambda para Ridge 2004: 0.01\n",
      "Mejor lambda para Lasso 2004: 0.1\n"
     ]
    }
   ],
   "source": [
    "# Mejor lambda para cada modelo\n",
    "bestlambdaridge2004 = modelol2_2004_CV.C_[0]\n",
    "bestlambdalasso2004 = modelol1_2004_CV.C_[0]\n",
    "\n",
    "print(f\"Mejor lambda para Ridge 2004: {bestlambdaridge2004}\")\n",
    "print(f\"Mejor lambda para Lasso 2004: {bestlambdalasso2004}\")"
   ]
  },
  {
   "cell_type": "markdown",
   "metadata": {},
   "source": [
    "En el caso del valor óptimo de λ para LASSO encontrado en el inciso\n",
    "anterior, ¿qué variables fueron descartadas? ¿Son las que hubieran\n",
    "esperado? ¿Tiene relación con lo que respondieron en el inciso 1 de la\n",
    "Parte I?"
   ]
  }
 ],
 "metadata": {
  "anaconda-cloud": {},
  "colab": {
   "name": "TP1 - Parte 1.ipynb",
   "provenance": []
  },
  "kernelspec": {
   "display_name": "Python 3.10.7 64-bit",
   "language": "python",
   "name": "python3"
  },
  "language_info": {
   "codemirror_mode": {
    "name": "ipython",
    "version": 3
   },
   "file_extension": ".py",
   "mimetype": "text/x-python",
   "name": "python",
   "nbconvert_exporter": "python",
   "pygments_lexer": "ipython3",
   "version": "3.10.7"
  },
  "vscode": {
   "interpreter": {
    "hash": "26de051ba29f2982a8de78e945f0abaf191376122a1563185a90213a26c5da77"
   }
  }
 },
 "nbformat": 4,
 "nbformat_minor": 1
}
